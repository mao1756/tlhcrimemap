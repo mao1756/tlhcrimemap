








import zipfile
import os
import io
import geopandas as gpd
import pandas as pd
import matplotlib.pyplot as plt
import re
import numpy as np
from datetime import datetime


# This is how we upload the data we have
# path to the zip file that contains 35 geojson files
# each of which consists of daily reports of crime
zip_file_path = './24hrs.zip' 

# using the zipfile module we initiate a ZipFile object to read our zip file contents
# this object contains functions like .namelist() that will allow us to interact with the zip file contents
zip_ref = zipfile.ZipFile(zip_file_path,'r')

dataframes = [] # will store all geo data frames here
for filename in zip_ref.namelist():
    geojson = gpd.read_file(io.BytesIO(zip_ref.read(filename)))
    dataframes.append(geojson)
    


def merge(list_of_geodataframes):
    MERGEDALL = gpd.pd.concat(list_of_geodataframes,ignore_index = True)
    return MERGEDALL





# The file's name is TOPS 365days Jan3
# This time all we need is the path of the file
file_path = '../../dataset/TOPS 365days Jan 3.geojson'
file_path


# Convert it to geo data frame
gdf_2023 = gpd.read_file(file_path)



# Append the 2023 data to the current list
# In fact insert to the beginning
dataframes.insert(0,gdf_2023)


# All of them are in this list now
len(dataframes)


# Merge all of them to make one giant geo data frame
MERGEDALL = merge(dataframes)





duplicates = MERGEDALL.duplicated()
MERGEDALL[duplicates]





DF = MERGEDALL.drop_duplicates()








def HistogramMonthly(DataFrame,f = (15,7)):
    create_time_incident = DataFrame.columns[0] #This should be the Create Time Incident Column
    date_counts = DataFrame[create_time_incident].dt.date.value_counts() #Returns a series of time incident <--> number of occurences
    date_counts_sorted = date_counts.sort_index()#sorts it with respect to date
   # Convert the index to datetime to ensure proper grouping
    date_counts_sorted.index = pd.to_datetime(date_counts_sorted.index)
    # Group by year and month, and sum the counts for each month
    monthly_counts = date_counts_sorted.groupby([date_counts_sorted.index.year, date_counts_sorted.index.month]).sum()

    # Plotting the histogram with monthly bins
    monthly_counts.plot(kind='bar', figsize=f)

    plt.title('Number of Incidents per Month')
    plt.xlabel('Month')
    plt.ylabel('Number of Incidents')
    plt.xticks(rotation=45)  # Rotate the x-axis labels to show them more clearly
    plt.tight_layout()  # Adjust the layout so everything fits without overlapping

    # plt.show()

    


def HistogramWeekly(DataFrame):
    create_time_incident = DataFrame.columns[0]  # This should be the Create Time Incident Column
    date_counts = DataFrame[create_time_incident].dt.date.value_counts()  # Returns a series of time incident <--> number of occurrences
    date_counts_sorted = date_counts.sort_index()  # sorts it with respect to date
    
    # Convert the index to datetime to ensure proper grouping
    date_counts_sorted.index = pd.to_datetime(date_counts_sorted.index)
    
    # Group by year and week, and sum the counts for each week
    weekly_counts = date_counts_sorted.resample('W').sum()
    
    # Plotting the histogram with weekly bins
    weekly_counts.plot(kind='bar', figsize=(15, 7))
    
    plt.title('Number of Incidents per Week')
    plt.xlabel('Week')
    plt.ylabel('Number of Incidents')
    plt.xticks(rotation=45)  # Rotate the x-axis labels to show them more clearly
    plt.tight_layout()  # Adjust the layout so everything fits without overlapping
    
    # plt.show()

# Now you can call this function passing any DataFrame that has a datetime column as the first column
# For example:
# HistogramWeekly(gdf[34])



def HistogramDaily(DataFrame):
    create_time_incident = DataFrame.columns[0]  # This should be the Create Time Incident Column
    date_counts = DataFrame[create_time_incident].dt.date.value_counts()  # Returns a series of time incident <--> number of occurrences
    date_counts_sorted = date_counts.sort_index()  # sorts it with respect to date
    
    # Convert the index to datetime to ensure proper grouping
    date_counts_sorted.index = pd.to_datetime(date_counts_sorted.index)
    
    # Group by day and sum the counts for each day
    daily_counts = date_counts_sorted.resample('D').sum()
    
    # Plotting the histogram with daily bins
    daily_counts.plot(kind='bar', figsize=(15, 7))
    
    plt.title('Number of Incidents per Day')
    plt.xlabel('Day')
    plt.ylabel('Number of Incidents')
    plt.xticks([])  # Remove x-axis labels to avoid clutter
    plt.tight_layout()  # Adjust the layout so everything fits without overlapping
    
    # plt.show()

# You would call this function with a DataFrame like so:
# HistogramDaily(gdfs[35])






unwanted_locations = ['LEON CO DETENTION FACILITY', 'TALLAHASSEE POLICE DEPARTMENT', 'LCSO', 'TPD', 'LEON CO SHERIFFS OFFICE', 'IMMIGRATION & CUSTOMS ENFORCEM']


location_filtered_df = DF[~DF['LOCATION_TEXT'].isin(unwanted_locations)]


unwanted_categories = ["COMMUNITY POLICING", "ADMIN", "RECOVERED PROP", "AUTO THEFT RECOVERY","UNABLE TO VERIFY", "TRAFFIC"]


# Applying both filters
final_filtered_df = location_filtered_df[~location_filtered_df['DISPO_TEXT'].isin(unwanted_categories)]
final_filtered_df


df = final_filtered_df.copy()








CTI = df['CREATE_TIME_INCIDENT'].dt.date.value_counts().sort_index()
CTI





CTI.index = pd.to_datetime(CTI.index) # This is needed to use resample method allowing us to resample dates by the day, week or month, year etc.
Monthly_CTI = CTI.resample('M').sum()
Monthly_mean = int(np.mean(Monthly_CTI)) #check the mean
Monthly_mean


# Number of incidents occured per month
f = (10,5)
HistogramMonthly(df,f)
plt.axhline(y = Monthly_mean,color='r',label='Mean')
plt.legend()
file_path_name = './Figures/Number of Incidents per Month.png'
plt.savefig(file_path_name,bbox_inches = 'tight')
plt.show()





periods = {
    'Spring Semester': ('2023-01-09', '2023-05-05'),  # Assuming Spring ends on May 5th
    'Summer': ('2023-05-06', '2023-08-27'),  # Summer period
    'Fall Semester': ('2023-08-28', '2023-12-15'),  # Assuming Fall starts on Aug 28th
}
# 'Spring Break': ('2023-03-13', '2023-03-17') # Add this to periods list if you want to display spring break

# Ensure CREATE_TIME_INCIDENT is a datetime
df['CREATE_TIME_INCIDENT'] = pd.to_datetime(df['CREATE_TIME_INCIDENT'])

# Initialize a new column for the academic period directly in the DataFrame
df['Academic_Period'] = pd.NA

for period, (start, end) in periods.items():
    start_date = pd.to_datetime(start).date()
    end_date = pd.to_datetime(end).date()
    mask = df['CREATE_TIME_INCIDENT'].dt.date.between(start_date, end_date)
    print(f"Assigning {period}: {start_date} to {end_date}, count: {mask.sum()}")  # Diagnostic print
    df.loc[mask, 'Academic_Period'] = period

# After this point, df should have 'Academic_Period' properly assigned.
# Check the final counts to ensure all periods are represented
incident_counts = df['Academic_Period'].value_counts()
print(incident_counts)  # Diagnostic print to check if Fall Semester is present

# Proceed with plotting
incident_counts.plot(kind='bar')
plt.title('Incident Counts by Academic Period')
plt.xlabel('Academic Period')
plt.ylabel('Number of Incidents')
plt.xticks(rotation=45)
plt.show()









# Look at the number of incidents each hour of the day
# 0 = First hour of

hourly_incidents = df['CREATE_TIME_INCIDENT'].dt.hour.value_counts().sort_index()
hourly_incidents


hourly_incidents.plot(kind = 'bar',figsize = (10,6))
plt.title('Occurrences Per Every Hour (All Dataset)')
plt.xlabel('Hour Of The Day')
plt.ylabel('Crime Distribution Per Hour (All Dataset)')

file_path_name = './Figures/Crime Distribution Per Hour (All Dataset).png'
plt.xticks(rotation = 0)
plt.tight_layout()
plt.savefig(file_path_name,bbox_inches = 'tight')
plt.show()














hours = df['CREATE_TIME_INCIDENT'].dt.hour
quarters = (hours//6) + 1 # Mapping of the hours to quarters: e.g. Hour 8 will be mapped to 2 since it belongs to the 2nd quarter of the day


quarters_counts = quarters.value_counts().sort_index()


quarters_counts.plot(kind = 'bar', figsize = (10,6))
plt.title('Occurrences Per Every Six - Hour (All Dataset)')
plt.xlabel('Quarter of the Day')
plt.ylabel('Number of Occurrences')
plt.xticks(ticks=[0, 1, 2, 3], labels=['Q1 (00:00-05:59)', 'Q2 (06:00-11:59)', 'Q3 (12:00-17:59)', 'Q4 (18:00-23:59)'], rotation=45)


file_path_name = './Figures/Crime Distribution Per Every Six-Hour .png'
plt.savefig(file_path_name,bbox_inches = 'tight')

plt.tight_layout()
plt.show()





hours = df['CREATE_TIME_INCIDENT'].dt.hour
four_hour_partition = (hours//4) + 1 # Mapping of the hours to every 4 hour partition:
#e.g. Hour 5 will be mapped to 2 since it belongs to the 2nd four-hour of the day



four_hour_partition_counts = four_hour_partition.value_counts().sort_index()


four_hour_partition_counts.plot(kind = 'bar', figsize = (10,6))
plt.title('Occurrences Per Every Four-Hour of The Day')
plt.xlabel('One of 6 portions of the Day Every Four-hour')
plt.ylabel('Number of Occurrences')

plt.xticks(ticks=[0, 1, 2, 3, 4, 5], labels=['Q1 (00:00-03:59)', 'Q2 (04:00-7:59)', 'Q3 (8:00-11:59)', 'Q4 (12:00-15:59)','Q5 (16:00-19:59)','Q6 (20:00-23:59)'], rotation=45)

plt.tight_layout()
file_path_name = './Figures/ Occurences Per Every Four-Hour of The Day.png'
plt.savefig(file_path_name,bbox_inches = 'tight')
plt.show()







hours = df['CREATE_TIME_INCIDENT'].dt.hour
three_hour_partition = (hours//3) + 1 # Mapping of the hours to every 4 hour partition:
#e.g. Hour 8 will be mapped to 3 since it belongs to the 3rd three-hour of the day



three_hour_partition_counts = three_hour_partition.value_counts().sort_index()


three_hour_partition_counts.plot(kind = 'bar', figsize = (10,6))
plt.title('Occurrences by Every Three-Hour of The Day')
plt.xlabel('One of 8 portions of the Day Every Three-hour')
plt.ylabel('Number of Occurrences')
plt.xticks(ticks=[0, 1, 2, 3, 4, 5, 6, 7], labels=['Q1 (00:00-02:59)', 'Q2 (03:00-5:59)', 'Q3 (6:00-8:59)', 
                                                   
                                                   'Q4 (9:00-11:59)','Q5 (12:00-14:59)','Q6 (15:00-17:59)',
                                                   'Q7 (18:00-20:59)','Q8 (21:00-23:59)'], rotation=45)


plt.tight_layout()
file_path_name = './Figures/ Occurences Per Every Three-Hour of The Day.png'
plt.savefig(file_path_name,bbox_inches = 'tight')
plt.show()





hours = df['CREATE_TIME_INCIDENT'].dt.hour
two_hour_partition = (hours//2) + 1 # Mapping of the hours to every 4 hour partition:
#e.g. Hour 3 will be mapped to 2 since it belongs to the 2nd three-hour of the day



two_hour_partition_counts = two_hour_partition.value_counts().sort_index()


two_hour_partition_counts.plot(kind = 'bar', figsize = (10,6))
plt.title('Occurrences by Every Two-Hour of The Day')
plt.xlabel('One of 12 portions of the Day Every Three-hour')
plt.ylabel('Number of Occurrences')
plt.xticks(ticks=[0, 1, 2, 3, 4, 5, 6, 7,8,9,10,11], labels=['Q1 (00:00-01:59)', 'Q2 (02:00-3:59)', 'Q3 (4:00-5:59)', 
                                                   
                                                   'Q4 (6:00-7:59)','Q5 (8:00-9:59)','Q6 (10:00-11:59)',
                                                   'Q7 (12:00-13:59)','Q8 (14:00-15:59)',
                                                  'Q9 (16:00-17:59)',
                                                  'Q10 (18:00-19:59)',
                                                  'Q11 (20:00-21:59)','Q12 (22:00-23:59)',
                                                  ], rotation=45)
plt.tight_layout()
file_path_name = './Figures/ Occurences Per Every Two-Hour of The Day.png'
plt.savefig(file_path_name,bbox_inches = 'tight')
plt.show()





hours = df['CREATE_TIME_INCIDENT'].dt.hour
am_pm_partition = (hours//12) + 1 # Mapping of the hours to every 4 hour partition:
#e.g. Hour 13 will be mapped to 2 since it belongs to the 2nd part of the day



am_pm_partition_counts = am_pm_partition.value_counts().sort_index()


am_pm_partition_counts.plot(kind = 'bar', figsize = (10,6))
plt.title('Occurrences by am & pm of the Day')
plt.xlabel('One of 2 portions of the Day: am or pm')
plt.ylabel('Number of Occurrences')
plt.xticks(ticks=[0, 1], labels=['AM (00:00-11:59)', 'PM (12:00-23:59)'
                                                  ], rotation=45)
plt.tight_layout()
file_path_name = './Figures/ Occurences  by am & pm of the Day.png'
plt.savefig(file_path_name,bbox_inches = 'tight')
plt.show()








min(df['CREATE_TIME_INCIDENT'].dt.hour.unique())


# Define a function that maps hours to 0 or 1 depending on whether there are in the daylight hours or night: Daylight == 0 , Night == 1
def map_hour_to_period(hour):
    if 0 <= hour <= 6 or 19 <= hour <= 23:
        return 1  # Night
    else:
        return 0  # Daylight

# Apply the function to each hour in the series
mapped_hours = df['CREATE_TIME_INCIDENT'].dt.hour.apply(map_hour_to_period)

# Count the number of occurrences of each period (0 or 1)
period_counts = mapped_hours.value_counts()

# Sort the index to ensure periods are in order (optional, for clarity)
period_counts = period_counts.sort_index()

# Plotting
period_counts.plot(kind='bar', figsize=(8, 5), color=['green', 'blue'])

plt.title('Occurrences by Daylight and Night')
plt.xlabel('Period')
plt.ylabel('Number of Occurrences')
plt.xticks(ticks=[0, 1], labels=['Daylight (7am-6:59pm)', 'Night (12:00am-6:59am, 7pm-11:59pm)'], rotation=0)

plt.tight_layout()
file_path_name = './Figures/Daylight_and_Night.png'
plt.savefig(file_path_name,bbox_inches = 'tight')

plt.show()









hourly_incidents.plot(kind = 'bar',figsize = (10,6))
plt.title('Occurrences Per Hour (All Dataset)')
plt.xlabel('Hour Of The Day')
plt.ylabel('# of Occurrences')
plt.xticks(rotation = 0)
plt.show()











get_2023_index = df['CREATE_TIME_INCIDENT'].dt.year == 2023


df_2023 = df[get_2023_index].copy()


df_2023['CREATE_TIME_INCIDENT']


months = df_2023['CREATE_TIME_INCIDENT'].dt.month
months











seasons = (months//3)%4


seasons





seasons_count = seasons.value_counts().sort_index()


seasons_count


mean_count = np.mean(seasons_count)
std_dev = np.std(seasons_count, ddof=1)

# How far each data point is from the mean in terms of standard deviation
distance_from_mean_std = [(count - mean_count) / std_dev for count in seasons_count]

mean_count, std_dev, distance_from_mean_std


# Creating a box plot for the data
plt.figure(figsize=(10, 6))
plt.boxplot(seasons_count, vert=False, patch_artist=True)
plt.axvline(mean_count, color='r', linestyle='--', label=f'Mean: {mean_count:.2f}')
plt.title('Box Plot of Incidents Per Season')
plt.xlabel('Number of Incidents')
plt.yticks([])  # Hide y-axis ticks
plt.legend()
plt.show()


seasons_count.plot(kind = 'bar',figsize = (10,6))

mean = int(np.mean(seasons_count))
plt.axhline(y = mean,color='r',label='Mean')
plt.title('Incidents Per Season (All 2023 Dataset)')
plt.xlabel('Seasons')
plt.ylabel('# of Incidents')
plt.xticks(ticks=[0, 1,2,3], labels=['Winter', 'Spring','Summer','Fall'], rotation=0)
plt.legend()

plt.tight_layout()
file_path_name = './Figures/Incidents Per Season (All 2023 Dataset).png'
plt.savefig(file_path_name,bbox_inches = 'tight')





plt.show()





winter_2023 = df_2023[seasons == 0].copy()
winter_2023


# Look at the number of incidents each hour of the day
# 0 = First hour of
hourly_incidents_winter2023 = winter_2023['CREATE_TIME_INCIDENT'].dt.hour.value_counts().sort_index()
hourly_incidents_winter2023





hourly_incidents_winter2023.plot(kind = 'bar',figsize = (10,6))
plt.title('Occurrences Per Hour (Winter 2023)')
plt.xlabel('Hour Of The Day')
plt.ylabel('# of Occurrences')
plt.xticks(rotation = 0)

plt.tight_layout()
file_path_name = './Figures/ Occurences Per Hour (Winter 2023).png'
plt.savefig(file_path_name,bbox_inches = 'tight')

plt.show()





# Define the seasonal data
spring_2023 = df_2023[seasons == 1].copy()
hourly_incidents_spring2023 = spring_2023['CREATE_TIME_INCIDENT'].dt.hour.value_counts().sort_index()

## Plot
hourly_incidents_spring2023.plot(kind = 'bar',figsize = (10,6))
plt.title('Occurrences Per Hour (Spring 2023)')
plt.xlabel('Hour Of The Day')
plt.ylabel('# of Occurrences')
plt.xticks(rotation = 0)

plt.tight_layout()
file_path_name = './Figures/ Occurences Per Hour (Spring 2023).png'
plt.savefig(file_path_name,bbox_inches = 'tight')

plt.show()






# Define the seasonal data
summer_2023 = df_2023[seasons == 2].copy()
hourly_incidents_summer2023 = summer_2023['CREATE_TIME_INCIDENT'].dt.hour.value_counts().sort_index()

## Plot
hourly_incidents_summer2023.plot(kind = 'bar',figsize = (10,6))
plt.title('Occurrences Per Hour (Summer 2023)')
plt.xlabel('Hour Of The Day')
plt.ylabel('# of Occurrences')
plt.xticks(rotation = 0)

plt.tight_layout()
file_path_name = './Figures/ Occurences Per Hour (Summer 2023).png'
plt.savefig(file_path_name,bbox_inches = 'tight')

plt.show()






# Define the seasonal data
fall_2023 = df_2023[seasons == 3].copy()
hourly_incidents_fall2023 = fall_2023['CREATE_TIME_INCIDENT'].dt.hour.value_counts().sort_index()

## Plot
hourly_incidents_fall2023.plot(kind = 'bar',figsize = (10,6))
plt.title('Occurrences Per Hour (Fall 2023)')
plt.xlabel('Hour Of The Day')
plt.ylabel('# of Occurrences')
plt.xticks(rotation = 0)

plt.tight_layout()
file_path_name = './Figures/ Occurences Per Hour (Fall 2023).png'
plt.savefig(file_path_name,bbox_inches = 'tight')

plt.show()






from datetime import date


df_2023['CREATE_TIME_INCIDENT'] = pd.to_datetime(df_2023['CREATE_TIME_INCIDENT']).dt.date
time_stamps = df_2023['CREATE_TIME_INCIDENT']


dates = [time_stamps.iloc[i] for i in range(len(time_stamps))]
len(dates)


# Define your start and end dates of spring semester
# According to when the residents hall open and close
start_date_spring = pd.to_datetime('2023-01-05').date()
end_date_spring = pd.to_datetime('2023-05-06').date()
dates_in_spring = [date for date in dates if start_date_spring <= date <= end_date_spring]
count_dates_in_spring = len(dates_in_spring)
count_dates_in_spring


# Define your start and end dates of summer semester
# According to when the residents hall open and close
start_date_summer = pd.to_datetime('2023-05-11').date()
end_date_summer = pd.to_datetime('2023-08-05').date()
dates_in_summer = [date for date in dates if start_date_summer <= date <= end_date_summer]
count_dates_in_summer = len(dates_in_summer)
count_dates_in_summer


# According to when the residents hall open and close
# Define your start and end dates of fall semester
start_date_fall = pd.to_datetime('2023-08-18').date()
end_date_fall = pd.to_datetime('2023-12-16').date()
dates_in_fall = [date for date in dates if start_date_fall <= date <= end_date_fall]
count_dates_in_fall = len(dates_in_fall)
count_dates_in_fall






incident_counts_by_semester = [count_dates_in_spring,count_dates_in_summer,count_dates_in_fall]


incident_counts_by_semester


# Semesters
semesters = np.array(['Spring 2023', 'Summer 2023', 'Fall 2023'])

mean = np.mean(incident_counts_by_semester)
stdv = np.std(incident_counts_by_semester,ddof = 1)



# Create the bar chart
plt.figure(figsize=(10, 6))
plt.bar(semesters, incident_counts_by_semester)
plt.axhline(y = mean,color='r',label='Mean')
# Add a title and labels
plt.title('Incident Counts by Semester in 2023')
plt.xlabel('Academic Period (According to When Residents Hall Open and Close)')
plt.ylabel('Number of Incidents')

plt.legend()
plt.tight_layout()
file_path_name = './Figures/Incident Counts by Semester in 2023.png'
plt.savefig(file_path_name,bbox_inches = 'tight')

# Show the plot
plt.show()


print('Spring 2023 Semester: From 2023-01-05 to 2023-05-06', f'Number of incidents = {count_dates_in_spring}' )
print('Summer 2023 Semester: From 2023-05-11 to 2023-08-05', f'Number of incidents ={count_dates_in_summer}' )
print('Fall 2023 Semester: From 2023-08-18 to 2023-12-16', f'Number of incidents={count_dates_in_fall}')


# Creating a table for the semesters and number of incidents
# Note: since we don't have the full dataset and the actual counts for summer and fall,
# I'll set them to zero for now. The user will need to provide these counts.

# Let's create a DataFrame to represent this as a table
semesters = pd.DataFrame({
    'Semester': ['Spring 2023', 'Summer 2023', 'Fall 2023'],
    'Start Date': ['2023-01-05', '2023-05-11', '2023-08-18'],
    'End Date': ['2023-05-06', '2023-08-05', '2023-12-16'],
    'Number of Incidents': [count_dates_in_spring, 0, 0]  # Placeholder counts
})

semesters_html = semesters.to_html(index=False)

semesters_html













