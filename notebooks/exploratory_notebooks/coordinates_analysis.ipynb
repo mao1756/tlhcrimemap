{
 "cells": [
  {
   "cell_type": "markdown",
   "metadata": {},
   "source": [
    "# Analysis of the data using the coordinates\n",
    "\n",
    "In this notebook, we aim to use the spatial data in our data. In particular, we would like to do:\n",
    "\n",
    "- Finding out the location names from the coordinates. Using the data for further analysis.\n",
    "- Plotting the crime data on Folium. Heatmaps.\n",
    "- k-means analysis.\n"
   ]
  },
  {
   "cell_type": "code",
   "execution_count": 3,
   "metadata": {},
   "outputs": [
    {
     "data": {
      "text/html": [
       "<div>\n",
       "<style scoped>\n",
       "    .dataframe tbody tr th:only-of-type {\n",
       "        vertical-align: middle;\n",
       "    }\n",
       "\n",
       "    .dataframe tbody tr th {\n",
       "        vertical-align: top;\n",
       "    }\n",
       "\n",
       "    .dataframe thead th {\n",
       "        text-align: right;\n",
       "    }\n",
       "</style>\n",
       "<table border=\"1\" class=\"dataframe\">\n",
       "  <thead>\n",
       "    <tr style=\"text-align: right;\">\n",
       "      <th></th>\n",
       "      <th>CREATE_TIME_INCIDENT</th>\n",
       "      <th>LOCATION_TEXT</th>\n",
       "      <th>BEAT</th>\n",
       "      <th>REPORT_NUMBER</th>\n",
       "      <th>LEGEND2</th>\n",
       "      <th>DISPO_TEXT</th>\n",
       "      <th>OBJECTID</th>\n",
       "      <th>geometry</th>\n",
       "    </tr>\n",
       "  </thead>\n",
       "  <tbody>\n",
       "    <tr>\n",
       "      <th>0</th>\n",
       "      <td>2024-01-03 07:33:12</td>\n",
       "      <td>DUNKIN DONUTS</td>\n",
       "      <td>SW1</td>\n",
       "      <td>None</td>\n",
       "      <td>505</td>\n",
       "      <td>COMMUNITY POLICING</td>\n",
       "      <td>1</td>\n",
       "      <td>POINT (-84.34536 30.45588)</td>\n",
       "    </tr>\n",
       "    <tr>\n",
       "      <th>1</th>\n",
       "      <td>2024-01-03 11:52:40</td>\n",
       "      <td>None</td>\n",
       "      <td>SE1</td>\n",
       "      <td>None</td>\n",
       "      <td>505</td>\n",
       "      <td>COMMUNITY POLICING</td>\n",
       "      <td>2</td>\n",
       "      <td>POINT (-84.25513 30.33586)</td>\n",
       "    </tr>\n",
       "    <tr>\n",
       "      <th>2</th>\n",
       "      <td>2024-01-03 11:53:16</td>\n",
       "      <td>ST PHILLIPS AME CHURCH</td>\n",
       "      <td>NE1</td>\n",
       "      <td>None</td>\n",
       "      <td>505</td>\n",
       "      <td>COMMUNITY POLICING</td>\n",
       "      <td>3</td>\n",
       "      <td>POINT (-84.17594 30.53916)</td>\n",
       "    </tr>\n",
       "    <tr>\n",
       "      <th>3</th>\n",
       "      <td>2024-01-03 15:06:07</td>\n",
       "      <td>None</td>\n",
       "      <td>SW3</td>\n",
       "      <td>None</td>\n",
       "      <td>145</td>\n",
       "      <td>THEFT - GRAND</td>\n",
       "      <td>4</td>\n",
       "      <td>POINT (-84.30023 30.37559)</td>\n",
       "    </tr>\n",
       "    <tr>\n",
       "      <th>4</th>\n",
       "      <td>2024-01-03 15:15:23</td>\n",
       "      <td>CANOPY OAKS ELEMENTARY SCHOOL</td>\n",
       "      <td>NW1</td>\n",
       "      <td>None</td>\n",
       "      <td>505</td>\n",
       "      <td>COMMUNITY POLICING</td>\n",
       "      <td>5</td>\n",
       "      <td>POINT (-84.34680 30.51014)</td>\n",
       "    </tr>\n",
       "  </tbody>\n",
       "</table>\n",
       "</div>"
      ],
      "text/plain": [
       "  CREATE_TIME_INCIDENT                  LOCATION_TEXT BEAT REPORT_NUMBER  \\\n",
       "0  2024-01-03 07:33:12                  DUNKIN DONUTS  SW1          None   \n",
       "1  2024-01-03 11:52:40                           None  SE1          None   \n",
       "2  2024-01-03 11:53:16         ST PHILLIPS AME CHURCH  NE1          None   \n",
       "3  2024-01-03 15:06:07                           None  SW3          None   \n",
       "4  2024-01-03 15:15:23  CANOPY OAKS ELEMENTARY SCHOOL  NW1          None   \n",
       "\n",
       "  LEGEND2          DISPO_TEXT OBJECTID                    geometry  \n",
       "0     505  COMMUNITY POLICING        1  POINT (-84.34536 30.45588)  \n",
       "1     505  COMMUNITY POLICING        2  POINT (-84.25513 30.33586)  \n",
       "2     505  COMMUNITY POLICING        3  POINT (-84.17594 30.53916)  \n",
       "3     145       THEFT - GRAND        4  POINT (-84.30023 30.37559)  \n",
       "4     505  COMMUNITY POLICING        5  POINT (-84.34680 30.51014)  "
      ]
     },
     "execution_count": 3,
     "metadata": {},
     "output_type": "execute_result"
    }
   ],
   "source": [
    "# Load the data\n",
    "import geopandas as gpd\n",
    "crime_data = gpd.read_file(\"../dataset/ALL 2023 AND UNTIL JAN29 2024.geojson\")\n",
    "crime_data.crs = 'EPSG:3857' # CRS represents the coordinate system. crime_data initally is set to have CRS of EPSG:4326 but this is actually wrong. Here I set the CRS to be the correct one.\n",
    "crime_data = crime_data.to_crs(epsg=4326) # change the coordinate system to EPSG:4326 or (longitude, latitude). Geocoder only accepts (long, lat).\n",
    "crime_data.head()"
   ]
  },
  {
   "cell_type": "markdown",
   "metadata": {},
   "source": [
    "# Coordinates -> Location.\n"
   ]
  },
  {
   "cell_type": "markdown",
   "metadata": {},
   "source": [
    "Most of the entries have no information about the location (`None`). We would like to figure out the location from the coordinates. To do this, we use `gpd.tools.reverse_geocode`. Geocoders are the software that converts the coordinates into adderss or the other way. We will use `Photon` geocoder which is based on OpenStreetMap."
   ]
  },
  {
   "cell_type": "code",
   "execution_count": 53,
   "metadata": {},
   "outputs": [
    {
     "data": {
      "text/html": [
       "<div>\n",
       "<style scoped>\n",
       "    .dataframe tbody tr th:only-of-type {\n",
       "        vertical-align: middle;\n",
       "    }\n",
       "\n",
       "    .dataframe tbody tr th {\n",
       "        vertical-align: top;\n",
       "    }\n",
       "\n",
       "    .dataframe thead th {\n",
       "        text-align: right;\n",
       "    }\n",
       "</style>\n",
       "<table border=\"1\" class=\"dataframe\">\n",
       "  <thead>\n",
       "    <tr style=\"text-align: right;\">\n",
       "      <th></th>\n",
       "      <th>geometry</th>\n",
       "      <th>address</th>\n",
       "    </tr>\n",
       "  </thead>\n",
       "  <tbody>\n",
       "    <tr>\n",
       "      <th>0</th>\n",
       "      <td>POINT (-84.34492 30.45600)</td>\n",
       "      <td>Blountstown Highway, 32310, Florida, United St...</td>\n",
       "    </tr>\n",
       "    <tr>\n",
       "      <th>1</th>\n",
       "      <td>POINT (-84.25564 30.33666)</td>\n",
       "      <td>J. Lewis Hall Senior, Woodville Park and Recre...</td>\n",
       "    </tr>\n",
       "    <tr>\n",
       "      <th>2</th>\n",
       "      <td>POINT (-84.17590 30.53915)</td>\n",
       "      <td>Saint Phillip AME Church, Centerville Road, 32...</td>\n",
       "    </tr>\n",
       "    <tr>\n",
       "      <th>3</th>\n",
       "      <td>POINT (-84.29970 30.37542)</td>\n",
       "      <td>Wright Drive, 32305, Florida, United States</td>\n",
       "    </tr>\n",
       "    <tr>\n",
       "      <th>4</th>\n",
       "      <td>POINT (-84.34653 30.51011)</td>\n",
       "      <td>Canopy Oaks Elementary School, 3250, Point Vie...</td>\n",
       "    </tr>\n",
       "    <tr>\n",
       "      <th>...</th>\n",
       "      <td>...</td>\n",
       "      <td>...</td>\n",
       "    </tr>\n",
       "    <tr>\n",
       "      <th>95</th>\n",
       "      <td>POINT (-84.33637 30.43665)</td>\n",
       "      <td>Don Price Way, 32304, Tallahassee, Florida, Un...</td>\n",
       "    </tr>\n",
       "    <tr>\n",
       "      <th>96</th>\n",
       "      <td>POINT (-84.33637 30.43665)</td>\n",
       "      <td>Don Price Way, 32304, Tallahassee, Florida, Un...</td>\n",
       "    </tr>\n",
       "    <tr>\n",
       "      <th>97</th>\n",
       "      <td>POINT (-84.29938 30.36048)</td>\n",
       "      <td>Button Willow Lane, 32305, Florida, United States</td>\n",
       "    </tr>\n",
       "    <tr>\n",
       "      <th>98</th>\n",
       "      <td>POINT (-84.34394 30.51410)</td>\n",
       "      <td>Bentwood Way, 32303, Florida, United States</td>\n",
       "    </tr>\n",
       "    <tr>\n",
       "      <th>99</th>\n",
       "      <td>POINT (-84.36103 30.55299)</td>\n",
       "      <td>Newfield Drive, 32303, Florida, United States</td>\n",
       "    </tr>\n",
       "  </tbody>\n",
       "</table>\n",
       "<p>100 rows × 2 columns</p>\n",
       "</div>"
      ],
      "text/plain": [
       "                      geometry  \\\n",
       "0   POINT (-84.34492 30.45600)   \n",
       "1   POINT (-84.25564 30.33666)   \n",
       "2   POINT (-84.17590 30.53915)   \n",
       "3   POINT (-84.29970 30.37542)   \n",
       "4   POINT (-84.34653 30.51011)   \n",
       "..                         ...   \n",
       "95  POINT (-84.33637 30.43665)   \n",
       "96  POINT (-84.33637 30.43665)   \n",
       "97  POINT (-84.29938 30.36048)   \n",
       "98  POINT (-84.34394 30.51410)   \n",
       "99  POINT (-84.36103 30.55299)   \n",
       "\n",
       "                                              address  \n",
       "0   Blountstown Highway, 32310, Florida, United St...  \n",
       "1   J. Lewis Hall Senior, Woodville Park and Recre...  \n",
       "2   Saint Phillip AME Church, Centerville Road, 32...  \n",
       "3         Wright Drive, 32305, Florida, United States  \n",
       "4   Canopy Oaks Elementary School, 3250, Point Vie...  \n",
       "..                                                ...  \n",
       "95  Don Price Way, 32304, Tallahassee, Florida, Un...  \n",
       "96  Don Price Way, 32304, Tallahassee, Florida, Un...  \n",
       "97  Button Willow Lane, 32305, Florida, United States  \n",
       "98        Bentwood Way, 32303, Florida, United States  \n",
       "99      Newfield Drive, 32303, Florida, United States  \n",
       "\n",
       "[100 rows x 2 columns]"
      ]
     },
     "execution_count": 53,
     "metadata": {},
     "output_type": "execute_result"
    }
   ],
   "source": [
    "gpd.tools.reverse_geocode(crime_data['geometry'].iloc[0:100])"
   ]
  },
  {
   "cell_type": "markdown",
   "metadata": {},
   "source": [
    "## ToDo:\n",
    "- Do this for the entire dataset and combine with the original dataframe. This will most likely take more than a day since our dataset is gigantic, so I recommend you use RCC.\n",
    "- Save the new data. For safety, do not overwrite the old one.\n",
    "- Plot a new bar chart for these adresses."
   ]
  },
  {
   "cell_type": "markdown",
   "metadata": {},
   "source": [
    "# Plot the crime data using Folium\n",
    "\n",
    "Here, we will use `Folium` to plot the crime data on an interactive map and also plot the heat map. See `heatmap.html` file in a web browser.\n"
   ]
  },
  {
   "cell_type": "code",
   "execution_count": 58,
   "metadata": {},
   "outputs": [],
   "source": [
    "import folium\n",
    "from folium.plugins import HeatMap\n",
    "\n",
    "m = folium.Map([30.45588, -84.34536], zoom_start=11)\n",
    "heat_data = [[row['y'],row['x']] for index, row in crime_data.get_coordinates().iterrows()]\n",
    "HeatMap(heat_data,\n",
    "    radius=20, \n",
    "    blur=15, \n",
    "    max_zoom=5).add_to(m)\n",
    "\n",
    "m.save('heatmap.html')"
   ]
  },
  {
   "cell_type": "markdown",
   "metadata": {},
   "source": [
    "# ToDo\n",
    "Can `HeatMapWithTime` plugin be used for our case? See https://python-visualization.github.io/folium/latest/user_guide/plugins/heatmap_with_time.html. Timelapse over time (day by day)?"
   ]
  },
  {
   "cell_type": "markdown",
   "metadata": {},
   "source": []
  },
  {
   "cell_type": "markdown",
   "metadata": {},
   "source": [
    "# k-means Clustering"
   ]
  },
  {
   "cell_type": "markdown",
   "metadata": {},
   "source": [
    "We would like to do something similar to k-means clustering in https://developers.arcgis.com/python/samples/crime-analysis-and-clustering-using-geoanalytics-and-pyspark/#Find-the-optimal-number-of-clusters."
   ]
  }
 ],
 "metadata": {
  "kernelspec": {
   "display_name": "venv_tlhcrimemap",
   "language": "python",
   "name": "python3"
  },
  "language_info": {
   "codemirror_mode": {
    "name": "ipython",
    "version": 3
   },
   "file_extension": ".py",
   "mimetype": "text/x-python",
   "name": "python",
   "nbconvert_exporter": "python",
   "pygments_lexer": "ipython3",
   "version": "3.9.18"
  }
 },
 "nbformat": 4,
 "nbformat_minor": 2
}
