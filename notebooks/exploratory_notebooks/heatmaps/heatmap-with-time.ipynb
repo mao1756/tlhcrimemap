{
 "cells": [
  {
   "cell_type": "markdown",
   "metadata": {},
   "source": [
    "# HeatMapwithTime"
   ]
  },
  {
   "cell_type": "markdown",
   "metadata": {},
   "source": [
    "## Generating weekly heatmap from 2023"
   ]
  },
  {
   "cell_type": "code",
   "execution_count": 6,
   "metadata": {},
   "outputs": [],
   "source": [
    "import geopandas as gpd\n",
    "import folium\n",
    "from folium.plugins import HeatMapWithTime\n",
    "import pandas as pd\n",
    "\n",
    "# Preprocessing\n",
    "crime_data = gpd.read_file('../../dataset/ALL 2023 AND UNTIL JAN29 2024.geojson')\n",
    "crime_data = crime_data[crime_data['geometry'].notna()] # Remove rows with missing geometry\n",
    "crime_data = crime_data[crime_data['CREATE_TIME_INCIDENT'].dt.year == 2023] # Remove data not from 2023\n",
    "crime_data.crs = 'EPSG:3857' # CRS represents the coordinate system. crime_data initally is set to have CRS of EPSG:4326 but this is actually wrong. Here I set the CRS to be the correct one.\n",
    "crime_data = crime_data.to_crs(epsg=4326) # change the coordinate system to EPSG:4326 or (longitude, latitude). Geocoder only accepts (long, lat).\n",
    "unwanted_locations = ['LEON CO DETENTION FACILITY', 'TALLAHASSEE POLICE DEPARTMENT', 'LCSO', 'TPD', 'LEON CO SHERIFFS OFFICE', 'IMMIGRATION & CUSTOMS ENFORCEM']\n",
    "crime_data = crime_data[~crime_data['LOCATION_TEXT'].isin(unwanted_locations)]\n",
    "unwanted_categories = [\"COMMUNITY POLICING\", \"ADMIN\", \"RECOVERED PROP\", \"AUTO THEFT RECOVERY\",\"UNABLE TO VERIFY\", \"TRAFFIC\"]\n",
    "crime_data = crime_data[~crime_data['DISPO_TEXT'].isin(unwanted_categories)]\n",
    "# Convert 'CREATE_TIME_INCIDENT' to datetime if not already done\n",
    "crime_data['CREATE_TIME_INCIDENT'] = pd.to_datetime(crime_data['CREATE_TIME_INCIDENT'])\n",
    "\n",
    "# Example conversion from GeoDataFrame to DataFrame with lat/lon columns\n",
    "crime_data['latitude'] = crime_data.geometry.y\n",
    "crime_data['longitude'] = crime_data.geometry.x\n",
    "crime_data['date'] = crime_data['CREATE_TIME_INCIDENT'].dt.date\n",
    "\n",
    "\n",
    "# Aggregate data by week\n",
    "# Note: Adjusting from .dt.date to .dt.isocalendar().week for weekly data\n",
    "weekly_data = crime_data.groupby(crime_data['CREATE_TIME_INCIDENT'].dt.isocalendar().week)\n",
    "\n",
    "# Initialize a map:\n",
    "m = folium.Map(location=[crime_data['latitude'].mean(), crime_data['longitude'].mean()], zoom_start=12)\n",
    "\n",
    "# Prepare data for the HeatMapWithTime plugin\n",
    "data = [\n",
    "    [[row['latitude'], row['longitude']] for index, row in group.iterrows()] \n",
    "    for week, group in weekly_data\n",
    "]\n",
    "\n",
    "# Generate index for time slider\n",
    "index = [f\"Week {week}\" for week, group in weekly_data]\n",
    "\n",
    "# Create a HeatMapWithTime\n",
    "HeatMapWithTime(data, index=index, auto_play=True, max_opacity=0.8).add_to(m)\n",
    "\n",
    "# Save or display the map\n",
    "m.save('Crime_HeatMapWithTime_Weekly.html')\n",
    "# Or display in a Jupyter notebook environment using: display(m)"
   ]
  },
  {
   "cell_type": "markdown",
   "metadata": {},
   "source": [
    "# Comments on the heatmap\n",
    "We note that the large scale shape is somewhat stable, which suggest that there are places where there are reports constantly.\n",
    "\n",
    "# A few places where the crimes aggregate\n",
    "- N. Monroe Street near I-10 (The south of N. Monroe seems to get constant reports in general, but the part near I-20 seems especially bad)\n",
    "-\n",
    "- W. Pensacola Street around Westend Square. Not only Westland Square itself, the area around it seems to get constant reports.\n",
    "- Governer's Mall and S. Magnolia Drive next to it.\n",
    "- W. Tenessee Street between Stadium Dr. and Ocala Rd.\n",
    "- Blountstown Street and the surrounding area\n",
    "- In larger scale, the area aroudn the campus seems to have more reports in general (although I might be biased as this is common thing being said among FSU students).\n",
    "\n",
    "This is not an exhaustive list. Perhaps unsurprising, but we can see some of the places above are big shopping malls and major streets.\n"
   ]
  },
  {
   "cell_type": "markdown",
   "metadata": {},
   "source": []
  }
 ],
 "metadata": {
  "kernelspec": {
   "display_name": "venv_tlhcrimemap",
   "language": "python",
   "name": "python3"
  },
  "language_info": {
   "codemirror_mode": {
    "name": "ipython",
    "version": 3
   },
   "file_extension": ".py",
   "mimetype": "text/x-python",
   "name": "python",
   "nbconvert_exporter": "python",
   "pygments_lexer": "ipython3",
   "version": "3.9.18"
  }
 },
 "nbformat": 4,
 "nbformat_minor": 2
}
