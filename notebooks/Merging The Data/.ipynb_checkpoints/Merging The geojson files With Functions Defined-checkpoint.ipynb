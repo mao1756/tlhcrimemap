{
 "cells": [
  {
   "cell_type": "markdown",
   "id": "704b40c6",
   "metadata": {},
   "source": [
    "# Zip Upload"
   ]
  },
  {
   "cell_type": "markdown",
   "id": "c4597135",
   "metadata": {},
   "source": [
    "We have 36 geojson files each containing a number of reports with 8 columns. One of them will contain reports of 365 days, and the other 35 will be in 24hr format starting from Jan 1, 2024."
   ]
  },
  {
   "cell_type": "code",
   "execution_count": 69,
   "id": "5b36de31",
   "metadata": {},
   "outputs": [],
   "source": [
    "import zipfile\n",
    "import os\n",
    "import geopandas as gpd\n",
    "import matplotlib.pyplot as plt\n",
    "import re\n",
    "from datetime import datetime"
   ]
  },
  {
   "cell_type": "code",
   "execution_count": 2,
   "id": "ee19ca9f",
   "metadata": {},
   "outputs": [],
   "source": [
    "zip_file_path = '/Users/cgty/Library/Mobile Documents/com~apple~CloudDocs/CLASSES/FSU/Spring 2024/ERDOS2024/CLONE/tlhcrimemap/ALL DATA MERGED/24hrs.zip'"
   ]
  },
  {
   "cell_type": "markdown",
   "id": "fdbb23f5",
   "metadata": {},
   "source": [
    "We will unpack the contents in the zip file names '24hrs.zip'"
   ]
  },
  {
   "cell_type": "code",
   "execution_count": 3,
   "id": "9ba8fcea",
   "metadata": {},
   "outputs": [
    {
     "name": "stdout",
     "output_type": "stream",
     "text": [
      "Unzipped the contents.\n"
     ]
    }
   ],
   "source": [
    "# Unzip the contents into the current directory or a specified path\n",
    "with zipfile.ZipFile(zip_file_path, 'r') as zip_ref:\n",
    "    zip_ref.extractall('.')\n",
    "\n",
    "print(\"Unzipped the contents.\")\n"
   ]
  },
  {
   "cell_type": "code",
   "execution_count": 4,
   "id": "6ce94288",
   "metadata": {},
   "outputs": [
    {
     "name": "stdout",
     "output_type": "stream",
     "text": [
      "\u001b[34m24hrs\u001b[m\u001b[m                             TOPS_24hrs_20240120.geojson\r\n",
      "24hrs.zip                         TOPS_24hrs_20240121.geojson\r\n",
      "Gitattributes (1).txt             TOPS_24hrs_20240122.geojson\r\n",
      "Merging The geojson files.ipynb   TOPS_24hrs_20240123.geojson\r\n",
      "TOPS 365 Days 2024 Jan 03.geojson TOPS_24hrs_20240124.geojson\r\n",
      "TOPS_24hrs_20240104.geojson       TOPS_24hrs_20240125.geojson\r\n",
      "TOPS_24hrs_20240105.geojson       TOPS_24hrs_20240126.geojson\r\n",
      "TOPS_24hrs_20240106.geojson       TOPS_24hrs_20240127.geojson\r\n",
      "TOPS_24hrs_20240107.geojson       TOPS_24hrs_20240128.geojson\r\n",
      "TOPS_24hrs_20240108.geojson       TOPS_24hrs_20240129.geojson\r\n",
      "TOPS_24hrs_20240109.geojson       TOPS_24hrs_20240130.geojson\r\n",
      "TOPS_24hrs_20240110.geojson       TOPS_24hrs_20240131.geojson\r\n",
      "TOPS_24hrs_20240111.geojson       TOPS_24hrs_20240201.geojson\r\n",
      "TOPS_24hrs_20240112.geojson       TOPS_24hrs_20240202.geojson\r\n",
      "TOPS_24hrs_20240113.geojson       TOPS_24hrs_20240203.geojson\r\n",
      "TOPS_24hrs_20240114.geojson       TOPS_24hrs_20240204.geojson\r\n",
      "TOPS_24hrs_20240115.geojson       TOPS_24hrs_20240205.geojson\r\n",
      "TOPS_24hrs_20240116.geojson       TOPS_24hrs_20240206.geojson\r\n",
      "TOPS_24hrs_20240117.geojson       TOPS_24hrs_20240207.geojson\r\n",
      "TOPS_24hrs_20240118.geojson       \u001b[34mextracted_files\u001b[m\u001b[m\r\n",
      "TOPS_24hrs_20240119.geojson\r\n"
     ]
    }
   ],
   "source": [
    "!ls"
   ]
  },
  {
   "cell_type": "markdown",
   "id": "b5eeeebb",
   "metadata": {},
   "source": [
    "We will now add each file into a list."
   ]
  },
  {
   "cell_type": "code",
   "execution_count": 7,
   "id": "44c4dfa7",
   "metadata": {},
   "outputs": [],
   "source": [
    "geojson_dir = './' # This will go into os.listdir() function as an input -- noting the corresponding directory\n"
   ]
  },
  {
   "cell_type": "code",
   "execution_count": 9,
   "id": "f0c4d903",
   "metadata": {},
   "outputs": [],
   "source": [
    "# Initialize an empty list to store the GeoDataFrames\n",
    "geojson_gdfs = []\n",
    "\n",
    "# List all files in the directory and filter for GeoJSON files\n",
    "geojson_files = [f for f in os.listdir(geojson_dir) if f.endswith('.geojson')]"
   ]
  },
  {
   "cell_type": "code",
   "execution_count": 11,
   "id": "e8a4f8c2",
   "metadata": {},
   "outputs": [],
   "source": [
    "# The file with index 10 contains all year\n",
    "# We will move it to the beginning of the list\n",
    "geojson_files[0],geojson_files[10] = geojson_files[10],geojson_files[0]"
   ]
  },
  {
   "cell_type": "markdown",
   "id": "0f2a8e01",
   "metadata": {},
   "source": [
    "We need the sort the dates before we read them into a GeoDataFrame. Cell below shows the current order."
   ]
  },
  {
   "cell_type": "code",
   "execution_count": 12,
   "id": "608f2489",
   "metadata": {
    "collapsed": true
   },
   "outputs": [
    {
     "data": {
      "text/plain": [
       "['TOPS 365 Days 2024 Jan 03.geojson',\n",
       " 'TOPS_24hrs_20240119.geojson',\n",
       " 'TOPS_24hrs_20240109.geojson',\n",
       " 'TOPS_24hrs_20240110.geojson',\n",
       " 'TOPS_24hrs_20240204.geojson',\n",
       " 'TOPS_24hrs_20240111.geojson',\n",
       " 'TOPS_24hrs_20240205.geojson',\n",
       " 'TOPS_24hrs_20240127.geojson',\n",
       " 'TOPS_24hrs_20240108.geojson',\n",
       " 'TOPS_24hrs_20240118.geojson',\n",
       " 'TOPS_24hrs_20240126.geojson',\n",
       " 'TOPS_24hrs_20240207.geojson',\n",
       " 'TOPS_24hrs_20240113.geojson',\n",
       " 'TOPS_24hrs_20240125.geojson',\n",
       " 'TOPS_24hrs_20240124.geojson',\n",
       " 'TOPS_24hrs_20240206.geojson',\n",
       " 'TOPS_24hrs_20240112.geojson',\n",
       " 'TOPS_24hrs_20240203.geojson',\n",
       " 'TOPS_24hrs_20240107.geojson',\n",
       " 'TOPS_24hrs_20240117.geojson',\n",
       " 'TOPS_24hrs_20240128.geojson',\n",
       " 'TOPS_24hrs_20240121.geojson',\n",
       " 'TOPS_24hrs_20240131.geojson',\n",
       " 'TOPS_24hrs_20240130.geojson',\n",
       " 'TOPS_24hrs_20240120.geojson',\n",
       " 'TOPS_24hrs_20240202.geojson',\n",
       " 'TOPS_24hrs_20240116.geojson',\n",
       " 'TOPS_24hrs_20240106.geojson',\n",
       " 'TOPS_24hrs_20240129.geojson',\n",
       " 'TOPS_24hrs_20240122.geojson',\n",
       " 'TOPS_24hrs_20240104.geojson',\n",
       " 'TOPS_24hrs_20240114.geojson',\n",
       " 'TOPS_24hrs_20240115.geojson',\n",
       " 'TOPS_24hrs_20240105.geojson',\n",
       " 'TOPS_24hrs_20240201.geojson',\n",
       " 'TOPS_24hrs_20240123.geojson']"
      ]
     },
     "execution_count": 12,
     "metadata": {},
     "output_type": "execute_result"
    }
   ],
   "source": [
    "geojson_files"
   ]
  },
  {
   "cell_type": "code",
   "execution_count": 13,
   "id": "d5b879f1",
   "metadata": {},
   "outputs": [],
   "source": [
    "# Function to extract the normalized date string from the file name\n",
    "def extract_date(filename):\n",
    "    # Handle the 'TOPS_365 Days YYYY Mon DD.geojson' format\n",
    "    match = re.search(r'TOPS_365 Days (\\d{4}) (\\w{3}) (\\d{2})\\.geojson', filename)\n",
    "    if match:\n",
    "        year, month, day = match.groups()\n",
    "        # Convert the three-letter month to a two-digit number\n",
    "        month = datetime.strptime(month, '%b').month\n",
    "        return f\"{year}{month:02d}{day}\"\n",
    "    \n",
    "    # Handle the 'TOPS_24hrs_YYYYMMDD.geojson' format\n",
    "    match = re.search(r'TOPS_24hrs_(\\d{8})\\.geojson', filename)\n",
    "    if match:\n",
    "        # This format is already normalized as 'YYYYMMDD'\n",
    "        return match.group(1)\n",
    "    \n",
    "    # Return a string that will sort last if the format is unrecognized\n",
    "    return '99999999'\n",
    "\n"
   ]
  },
  {
   "cell_type": "code",
   "execution_count": 14,
   "id": "66ba72f3",
   "metadata": {
    "scrolled": true
   },
   "outputs": [
    {
     "data": {
      "text/plain": [
       "['TOPS_24hrs_20240104.geojson',\n",
       " 'TOPS_24hrs_20240105.geojson',\n",
       " 'TOPS_24hrs_20240106.geojson',\n",
       " 'TOPS_24hrs_20240107.geojson',\n",
       " 'TOPS_24hrs_20240108.geojson',\n",
       " 'TOPS_24hrs_20240109.geojson',\n",
       " 'TOPS_24hrs_20240110.geojson',\n",
       " 'TOPS_24hrs_20240111.geojson',\n",
       " 'TOPS_24hrs_20240112.geojson',\n",
       " 'TOPS_24hrs_20240113.geojson',\n",
       " 'TOPS_24hrs_20240114.geojson',\n",
       " 'TOPS_24hrs_20240115.geojson',\n",
       " 'TOPS_24hrs_20240116.geojson',\n",
       " 'TOPS_24hrs_20240117.geojson',\n",
       " 'TOPS_24hrs_20240118.geojson',\n",
       " 'TOPS_24hrs_20240119.geojson',\n",
       " 'TOPS_24hrs_20240120.geojson',\n",
       " 'TOPS_24hrs_20240121.geojson',\n",
       " 'TOPS_24hrs_20240122.geojson',\n",
       " 'TOPS_24hrs_20240123.geojson',\n",
       " 'TOPS_24hrs_20240124.geojson',\n",
       " 'TOPS_24hrs_20240125.geojson',\n",
       " 'TOPS_24hrs_20240126.geojson',\n",
       " 'TOPS_24hrs_20240127.geojson',\n",
       " 'TOPS_24hrs_20240128.geojson',\n",
       " 'TOPS_24hrs_20240129.geojson',\n",
       " 'TOPS_24hrs_20240130.geojson',\n",
       " 'TOPS_24hrs_20240131.geojson',\n",
       " 'TOPS_24hrs_20240201.geojson',\n",
       " 'TOPS_24hrs_20240202.geojson',\n",
       " 'TOPS_24hrs_20240203.geojson',\n",
       " 'TOPS_24hrs_20240204.geojson',\n",
       " 'TOPS_24hrs_20240205.geojson',\n",
       " 'TOPS_24hrs_20240206.geojson',\n",
       " 'TOPS_24hrs_20240207.geojson',\n",
       " 'TOPS 365 Days 2024 Jan 03.geojson']"
      ]
     },
     "execution_count": 14,
     "metadata": {},
     "output_type": "execute_result"
    }
   ],
   "source": [
    "# Now let's sort the list using the custom sort key\n",
    "geojson_files_sorted = sorted(geojson_files, key=extract_date)\n",
    "\n",
    "# Verify the result\n",
    "geojson_files_sorted"
   ]
  },
  {
   "cell_type": "code",
   "execution_count": 15,
   "id": "94ccff98",
   "metadata": {},
   "outputs": [
    {
     "data": {
      "text/plain": [
       "['TOPS 365 Days 2024 Jan 03.geojson',\n",
       " 'TOPS_24hrs_20240104.geojson',\n",
       " 'TOPS_24hrs_20240105.geojson',\n",
       " 'TOPS_24hrs_20240106.geojson',\n",
       " 'TOPS_24hrs_20240107.geojson',\n",
       " 'TOPS_24hrs_20240108.geojson',\n",
       " 'TOPS_24hrs_20240109.geojson',\n",
       " 'TOPS_24hrs_20240110.geojson',\n",
       " 'TOPS_24hrs_20240111.geojson',\n",
       " 'TOPS_24hrs_20240112.geojson',\n",
       " 'TOPS_24hrs_20240113.geojson',\n",
       " 'TOPS_24hrs_20240114.geojson',\n",
       " 'TOPS_24hrs_20240115.geojson',\n",
       " 'TOPS_24hrs_20240116.geojson',\n",
       " 'TOPS_24hrs_20240117.geojson',\n",
       " 'TOPS_24hrs_20240118.geojson',\n",
       " 'TOPS_24hrs_20240119.geojson',\n",
       " 'TOPS_24hrs_20240120.geojson',\n",
       " 'TOPS_24hrs_20240121.geojson',\n",
       " 'TOPS_24hrs_20240122.geojson',\n",
       " 'TOPS_24hrs_20240123.geojson',\n",
       " 'TOPS_24hrs_20240124.geojson',\n",
       " 'TOPS_24hrs_20240125.geojson',\n",
       " 'TOPS_24hrs_20240126.geojson',\n",
       " 'TOPS_24hrs_20240127.geojson',\n",
       " 'TOPS_24hrs_20240128.geojson',\n",
       " 'TOPS_24hrs_20240129.geojson',\n",
       " 'TOPS_24hrs_20240130.geojson',\n",
       " 'TOPS_24hrs_20240131.geojson',\n",
       " 'TOPS_24hrs_20240201.geojson',\n",
       " 'TOPS_24hrs_20240202.geojson',\n",
       " 'TOPS_24hrs_20240203.geojson',\n",
       " 'TOPS_24hrs_20240204.geojson',\n",
       " 'TOPS_24hrs_20240205.geojson',\n",
       " 'TOPS_24hrs_20240206.geojson',\n",
       " 'TOPS_24hrs_20240207.geojson']"
      ]
     },
     "execution_count": 15,
     "metadata": {},
     "output_type": "execute_result"
    }
   ],
   "source": [
    "last_item = geojson_files_sorted.pop()  # Remove the last item and store it\n",
    "geojson_files_sorted.insert(0, last_item)  # Insert the stored item at the beginning\n",
    "geojson_files_sorted"
   ]
  },
  {
   "cell_type": "code",
   "execution_count": 16,
   "id": "6396dc83",
   "metadata": {},
   "outputs": [],
   "source": [
    "# Read each GeoJSON file into a GeoDataFrame and append to the list\n",
    "for filename in geojson_files_sorted:\n",
    "    file_path = os.path.join(geojson_dir, filename)\n",
    "    gdf = gpd.read_file(file_path)\n",
    "    geojson_gdfs.append(gdf)"
   ]
  },
  {
   "cell_type": "markdown",
   "id": "bc5c1357",
   "metadata": {},
   "source": [
    "# Some Analysis"
   ]
  },
  {
   "cell_type": "markdown",
   "id": "e1e7607d",
   "metadata": {},
   "source": [
    "The first item in the list will contain reports from 2023."
   ]
  },
  {
   "cell_type": "code",
   "execution_count": 24,
   "id": "f97fa743",
   "metadata": {},
   "outputs": [],
   "source": [
    "reports2023 = geojson_gdfs[0]"
   ]
  },
  {
   "cell_type": "code",
   "execution_count": 28,
   "id": "73b2081d",
   "metadata": {},
   "outputs": [
    {
     "data": {
      "text/plain": [
       "<bound method NDFrame.describe of        CREATE_TIME_INCIDENT         LOCATION_TEXT BEAT  REPORT_NUMBER LEGEND2  \\\n",
       "0       2023-11-10 21:12:47                  None   18  2023-00196053     122   \n",
       "1       2023-08-31 01:41:41                  None   17           None     152   \n",
       "2       2023-08-01 16:23:09                  None    4  2023-00132523     104   \n",
       "3       2023-09-01 00:20:51     PLANTATION CONDOS   14           None     152   \n",
       "4       2023-09-29 17:56:38                  None    8  2023-00170694     302   \n",
       "...                     ...                   ...  ...            ...     ...   \n",
       "149210  2023-12-26 22:35:06  VENETIAN VILLAS APTS   14           None     505   \n",
       "149211  2023-12-26 05:55:10           ACTS CHURCH  NW1           None     505   \n",
       "149212  2023-12-26 06:10:36                  None  NW1           None     504   \n",
       "149213  2023-12-26 14:14:51                  None  NE1           None     159   \n",
       "149214  2023-12-26 19:11:29                  None  SW1           None     133   \n",
       "\n",
       "                     DISPO_TEXT OBJECTID                              geometry  \n",
       "0       DISORDERLY INTOXICATION        1  POINT (-9386627.75200 3565111.39140)  \n",
       "1                   SUSPICIOUS         2  POINT (-9388266.65440 3561752.12860)  \n",
       "2                    AUTO THEFT        3  POINT (-9376397.42740 3566294.16600)  \n",
       "3                   SUSPICIOUS         4  POINT (-9386699.50640 3560238.44430)  \n",
       "4           CRASH WITH INJURIES        5  POINT (-9376069.55250 3558656.45000)  \n",
       "...                         ...      ...                                   ...  \n",
       "149210       COMMUNITY POLICING   149211  POINT (-9386126.17420 3560137.28670)  \n",
       "149211       COMMUNITY POLICING   149212  POINT (-9387388.17550 3568401.81670)  \n",
       "149212       COMMUNITY POLICING   149213  POINT (-9382084.01440 3567042.38750)  \n",
       "149213        MISC SERVICE CALL   149214  POINT (-9366901.03320 3576978.28410)  \n",
       "149214       LOUD NOISE / MUSIC   149215  POINT (-9395155.10670 3560009.27020)  \n",
       "\n",
       "[149215 rows x 8 columns]>"
      ]
     },
     "execution_count": 28,
     "metadata": {},
     "output_type": "execute_result"
    }
   ],
   "source": [
    "reports2023.describe"
   ]
  },
  {
   "cell_type": "code",
   "execution_count": 29,
   "id": "9e8074a3",
   "metadata": {},
   "outputs": [
    {
     "data": {
      "text/plain": [
       "0        2023-11-10 21:12:47\n",
       "1        2023-08-31 01:41:41\n",
       "2        2023-08-01 16:23:09\n",
       "3        2023-09-01 00:20:51\n",
       "4        2023-09-29 17:56:38\n",
       "                 ...        \n",
       "149210   2023-12-26 22:35:06\n",
       "149211   2023-12-26 05:55:10\n",
       "149212   2023-12-26 06:10:36\n",
       "149213   2023-12-26 14:14:51\n",
       "149214   2023-12-26 19:11:29\n",
       "Name: CREATE_TIME_INCIDENT, Length: 149215, dtype: datetime64[ns]"
      ]
     },
     "execution_count": 29,
     "metadata": {},
     "output_type": "execute_result"
    }
   ],
   "source": [
    "reports2023['CREATE_TIME_INCIDENT']"
   ]
  },
  {
   "cell_type": "markdown",
   "id": "861df7a6",
   "metadata": {},
   "source": [
    "There are 365 different dates. Let's find out how many reports there are for each date."
   ]
  },
  {
   "cell_type": "code",
   "execution_count": 30,
   "id": "5c7addfe",
   "metadata": {},
   "outputs": [
    {
     "data": {
      "text/plain": [
       "366"
      ]
     },
     "execution_count": 30,
     "metadata": {},
     "output_type": "execute_result"
    }
   ],
   "source": [
    "# There is 366 different dates (ignoring the time component)\n",
    "reports2023['CREATE_TIME_INCIDENT'].dt.date.nunique()"
   ]
  },
  {
   "cell_type": "code",
   "execution_count": 65,
   "id": "af2ce5ec",
   "metadata": {},
   "outputs": [
    {
     "name": "stdout",
     "output_type": "stream",
     "text": [
      "CREATE_TIME_INCIDENT\n",
      "2023-02-11    705\n",
      "2023-06-16    615\n",
      "2023-02-09    601\n",
      "2023-12-22    591\n",
      "2023-02-10    553\n",
      "             ... \n",
      "2023-07-23    300\n",
      "2023-01-15    299\n",
      "2023-10-16    291\n",
      "2023-11-05    288\n",
      "2023-01-02     41\n",
      "Name: count, Length: 366, dtype: int64\n"
     ]
    }
   ],
   "source": [
    "date_counts = reports2023['CREATE_TIME_INCIDENT'].dt.date.value_counts()\n",
    "print(date_counts)"
   ]
  },
  {
   "cell_type": "code",
   "execution_count": 68,
   "id": "974d8fb9",
   "metadata": {},
   "outputs": [
    {
     "name": "stdout",
     "output_type": "stream",
     "text": [
      "CREATE_TIME_INCIDENT\n",
      "2023-01-02     41\n",
      "2023-01-03    457\n",
      "2023-01-04    363\n",
      "2023-01-05    462\n",
      "2023-01-06    460\n",
      "             ... \n",
      "2023-12-29    418\n",
      "2023-12-30    373\n",
      "2023-12-31    374\n",
      "2024-01-01    372\n",
      "2024-01-02    314\n",
      "Name: count, Length: 366, dtype: int64\n"
     ]
    }
   ],
   "source": [
    "# Sort the dates\n",
    "date_counts_sorted = date_counts.sort_index()\n",
    "print(date_counts_sorted)"
   ]
  },
  {
   "cell_type": "code",
   "execution_count": 82,
   "id": "f2c155f7",
   "metadata": {},
   "outputs": [],
   "source": [
    "import pandas as pd"
   ]
  },
  {
   "cell_type": "code",
   "execution_count": 88,
   "id": "111fad06",
   "metadata": {},
   "outputs": [
    {
     "data": {
      "text/plain": [
       "CREATE_TIME_INCIDENT\n",
       "2023-01-02     41\n",
       "2023-01-03    457\n",
       "2023-01-04    363\n",
       "2023-01-05    462\n",
       "2023-01-06    460\n",
       "             ... \n",
       "2023-12-29    418\n",
       "2023-12-30    373\n",
       "2023-12-31    374\n",
       "2024-01-01    372\n",
       "2024-01-02    314\n",
       "Name: count, Length: 366, dtype: int64"
      ]
     },
     "execution_count": 88,
     "metadata": {},
     "output_type": "execute_result"
    }
   ],
   "source": [
    "date_counts_sorted"
   ]
  },
  {
   "cell_type": "markdown",
   "id": "3fecd1fa",
   "metadata": {},
   "source": [
    "Below shows number of total incidents for each month."
   ]
  },
  {
   "cell_type": "code",
   "execution_count": 83,
   "id": "f22f1299",
   "metadata": {},
   "outputs": [
    {
     "data": {
      "image/png": "[encoded data removed]",
      "text/plain": [
       "<Figure size 1500x700 with 1 Axes>"
      ]
     },
     "metadata": {},
     "output_type": "display_data"
    }
   ],
   "source": [
    "# Convert the index to datetime to ensure proper grouping\n",
    "date_counts_sorted.index = pd.to_datetime(date_counts_sorted.index)\n",
    "\n",
    "# Group by year and month, and sum the counts for each month\n",
    "monthly_counts = date_counts_sorted.groupby([date_counts_sorted.index.year, date_counts_sorted.index.month]).sum()\n",
    "\n",
    "# Plotting the histogram with monthly bins\n",
    "monthly_counts.plot(kind='bar', figsize=(15, 7))\n",
    "\n",
    "plt.title('Number of Incidents per Month')\n",
    "plt.xlabel('Month')\n",
    "plt.ylabel('Number of Incidents')\n",
    "plt.xticks(rotation=45)  # Rotate the x-axis labels to show them more clearly\n",
    "plt.tight_layout()  # Adjust the layout so everything fits without overlapping\n",
    "\n",
    "plt.show()\n"
   ]
  },
  {
   "cell_type": "markdown",
   "id": "6b1cd249",
   "metadata": {},
   "source": [
    "Below shows the number of incidents for each day. Note that the last couple of days will belong to 2024."
   ]
  },
  {
   "cell_type": "code",
   "execution_count": 92,
   "id": "79025303",
   "metadata": {},
   "outputs": [
    {
     "data": {
      "image/png": "[encoded data removed]",
      "text/plain": [
       "<Figure size 1500x700 with 1 Axes>"
      ]
     },
     "metadata": {},
     "output_type": "display_data"
    }
   ],
   "source": [
    "date_counts_sorted.plot(kind='bar', figsize=(15, 7))  # Adjust the figure size as needed\n",
    "\n",
    "plt.title('Number of Incidents per Date')\n",
    "plt.xlabel('')  # Remove the x-axis label\n",
    "plt.ylabel('Number of Incidents')\n",
    "plt.xticks(ticks=[], labels=[])  # Remove the x-axis tick labels\n",
    "plt.tight_layout()  # Adjust the layout so everything fits without overlapping\n",
    "\n",
    "plt.show()"
   ]
  },
  {
   "cell_type": "markdown",
   "id": "b44b1439",
   "metadata": {},
   "source": [
    "# Merging all the Data"
   ]
  },
  {
   "cell_type": "code",
   "execution_count": 95,
   "id": "f4f1b02d",
   "metadata": {},
   "outputs": [],
   "source": [
    "MERGEDALL = gpd.pd.concat(geojson_gdfs,ignore_index = True)"
   ]
  },
  {
   "cell_type": "code",
   "execution_count": 96,
   "id": "55d9f492",
   "metadata": {},
   "outputs": [
    {
     "data": {
      "text/html": [
       "<div>\n",
       "<style scoped>\n",
       "    .dataframe tbody tr th:only-of-type {\n",
       "        vertical-align: middle;\n",
       "    }\n",
       "\n",
       "    .dataframe tbody tr th {\n",
       "        vertical-align: top;\n",
       "    }\n",
       "\n",
       "    .dataframe thead th {\n",
       "        text-align: right;\n",
       "    }\n",
       "</style>\n",
       "<table border=\"1\" class=\"dataframe\">\n",
       "  <thead>\n",
       "    <tr style=\"text-align: right;\">\n",
       "      <th></th>\n",
       "      <th>CREATE_TIME_INCIDENT</th>\n",
       "      <th>LOCATION_TEXT</th>\n",
       "      <th>BEAT</th>\n",
       "      <th>REPORT_NUMBER</th>\n",
       "      <th>LEGEND2</th>\n",
       "      <th>DISPO_TEXT</th>\n",
       "      <th>OBJECTID</th>\n",
       "      <th>geometry</th>\n",
       "    </tr>\n",
       "  </thead>\n",
       "  <tbody>\n",
       "    <tr>\n",
       "      <th>0</th>\n",
       "      <td>2023-11-10 21:12:47</td>\n",
       "      <td>None</td>\n",
       "      <td>18</td>\n",
       "      <td>2023-00196053</td>\n",
       "      <td>122</td>\n",
       "      <td>DISORDERLY INTOXICATION</td>\n",
       "      <td>1</td>\n",
       "      <td>POINT (-9386627.75200 3565111.39140)</td>\n",
       "    </tr>\n",
       "    <tr>\n",
       "      <th>1</th>\n",
       "      <td>2023-08-31 01:41:41</td>\n",
       "      <td>None</td>\n",
       "      <td>17</td>\n",
       "      <td>None</td>\n",
       "      <td>152</td>\n",
       "      <td>SUSPICIOUS</td>\n",
       "      <td>2</td>\n",
       "      <td>POINT (-9388266.65440 3561752.12860)</td>\n",
       "    </tr>\n",
       "    <tr>\n",
       "      <th>2</th>\n",
       "      <td>2023-08-01 16:23:09</td>\n",
       "      <td>None</td>\n",
       "      <td>4</td>\n",
       "      <td>2023-00132523</td>\n",
       "      <td>104</td>\n",
       "      <td>AUTO THEFT</td>\n",
       "      <td>3</td>\n",
       "      <td>POINT (-9376397.42740 3566294.16600)</td>\n",
       "    </tr>\n",
       "    <tr>\n",
       "      <th>3</th>\n",
       "      <td>2023-09-01 00:20:51</td>\n",
       "      <td>PLANTATION CONDOS</td>\n",
       "      <td>14</td>\n",
       "      <td>None</td>\n",
       "      <td>152</td>\n",
       "      <td>SUSPICIOUS</td>\n",
       "      <td>4</td>\n",
       "      <td>POINT (-9386699.50640 3560238.44430)</td>\n",
       "    </tr>\n",
       "    <tr>\n",
       "      <th>4</th>\n",
       "      <td>2023-09-29 17:56:38</td>\n",
       "      <td>None</td>\n",
       "      <td>8</td>\n",
       "      <td>2023-00170694</td>\n",
       "      <td>302</td>\n",
       "      <td>CRASH WITH INJURIES</td>\n",
       "      <td>5</td>\n",
       "      <td>POINT (-9376069.55250 3558656.45000)</td>\n",
       "    </tr>\n",
       "    <tr>\n",
       "      <th>...</th>\n",
       "      <td>...</td>\n",
       "      <td>...</td>\n",
       "      <td>...</td>\n",
       "      <td>...</td>\n",
       "      <td>...</td>\n",
       "      <td>...</td>\n",
       "      <td>...</td>\n",
       "      <td>...</td>\n",
       "    </tr>\n",
       "    <tr>\n",
       "      <th>161193</th>\n",
       "      <td>NaT</td>\n",
       "      <td>AENON BAPTIST CHURCH</td>\n",
       "      <td>SW1</td>\n",
       "      <td>None</td>\n",
       "      <td>505</td>\n",
       "      <td>COMMUNITY POLICING</td>\n",
       "      <td>331</td>\n",
       "      <td>POINT (-9393031.19420 3559657.23630)</td>\n",
       "    </tr>\n",
       "    <tr>\n",
       "      <th>161194</th>\n",
       "      <td>NaT</td>\n",
       "      <td>AMAZON FULFILLMENT CENTER</td>\n",
       "      <td>NE4</td>\n",
       "      <td>None</td>\n",
       "      <td>505</td>\n",
       "      <td>COMMUNITY POLICING</td>\n",
       "      <td>332</td>\n",
       "      <td>POINT (-9369634.07030 3566571.91980)</td>\n",
       "    </tr>\n",
       "    <tr>\n",
       "      <th>161195</th>\n",
       "      <td>NaT</td>\n",
       "      <td>None</td>\n",
       "      <td>SE2</td>\n",
       "      <td>None</td>\n",
       "      <td>152</td>\n",
       "      <td>SUSPICIOUS</td>\n",
       "      <td>333</td>\n",
       "      <td>POINT (-9366706.13170 3555347.64320)</td>\n",
       "    </tr>\n",
       "    <tr>\n",
       "      <th>161196</th>\n",
       "      <td>NaT</td>\n",
       "      <td>None</td>\n",
       "      <td>SW3</td>\n",
       "      <td>None</td>\n",
       "      <td>159</td>\n",
       "      <td>MISC SERVICE CALL</td>\n",
       "      <td>334</td>\n",
       "      <td>POINT (-9382658.75470 3553705.96660)</td>\n",
       "    </tr>\n",
       "    <tr>\n",
       "      <th>161197</th>\n",
       "      <td>NaT</td>\n",
       "      <td>WAL-MART SUPERCENTER</td>\n",
       "      <td>NW1</td>\n",
       "      <td>None</td>\n",
       "      <td>505</td>\n",
       "      <td>COMMUNITY POLICING</td>\n",
       "      <td>335</td>\n",
       "      <td>POINT (-9386298.36210 3566542.08400)</td>\n",
       "    </tr>\n",
       "  </tbody>\n",
       "</table>\n",
       "<p>161198 rows × 8 columns</p>\n",
       "</div>"
      ],
      "text/plain": [
       "       CREATE_TIME_INCIDENT              LOCATION_TEXT BEAT  REPORT_NUMBER  \\\n",
       "0       2023-11-10 21:12:47                       None   18  2023-00196053   \n",
       "1       2023-08-31 01:41:41                       None   17           None   \n",
       "2       2023-08-01 16:23:09                       None    4  2023-00132523   \n",
       "3       2023-09-01 00:20:51          PLANTATION CONDOS   14           None   \n",
       "4       2023-09-29 17:56:38                       None    8  2023-00170694   \n",
       "...                     ...                        ...  ...            ...   \n",
       "161193                  NaT       AENON BAPTIST CHURCH  SW1           None   \n",
       "161194                  NaT  AMAZON FULFILLMENT CENTER  NE4           None   \n",
       "161195                  NaT                       None  SE2           None   \n",
       "161196                  NaT                       None  SW3           None   \n",
       "161197                  NaT       WAL-MART SUPERCENTER  NW1           None   \n",
       "\n",
       "       LEGEND2               DISPO_TEXT OBJECTID  \\\n",
       "0          122  DISORDERLY INTOXICATION        1   \n",
       "1          152              SUSPICIOUS         2   \n",
       "2          104               AUTO THEFT        3   \n",
       "3          152              SUSPICIOUS         4   \n",
       "4          302      CRASH WITH INJURIES        5   \n",
       "...        ...                      ...      ...   \n",
       "161193     505       COMMUNITY POLICING      331   \n",
       "161194     505       COMMUNITY POLICING      332   \n",
       "161195     152              SUSPICIOUS       333   \n",
       "161196     159        MISC SERVICE CALL      334   \n",
       "161197     505       COMMUNITY POLICING      335   \n",
       "\n",
       "                                    geometry  \n",
       "0       POINT (-9386627.75200 3565111.39140)  \n",
       "1       POINT (-9388266.65440 3561752.12860)  \n",
       "2       POINT (-9376397.42740 3566294.16600)  \n",
       "3       POINT (-9386699.50640 3560238.44430)  \n",
       "4       POINT (-9376069.55250 3558656.45000)  \n",
       "...                                      ...  \n",
       "161193  POINT (-9393031.19420 3559657.23630)  \n",
       "161194  POINT (-9369634.07030 3566571.91980)  \n",
       "161195  POINT (-9366706.13170 3555347.64320)  \n",
       "161196  POINT (-9382658.75470 3553705.96660)  \n",
       "161197  POINT (-9386298.36210 3566542.08400)  \n",
       "\n",
       "[161198 rows x 8 columns]"
      ]
     },
     "execution_count": 96,
     "metadata": {},
     "output_type": "execute_result"
    }
   ],
   "source": [
    "MERGEDALL"
   ]
  },
  {
   "cell_type": "markdown",
   "id": "a43d643c",
   "metadata": {},
   "source": [
    "# An issue"
   ]
  },
  {
   "cell_type": "markdown",
   "id": "23b3e4b8",
   "metadata": {},
   "source": [
    "The rows 161193 through 161197 has NaT for crime time incident column. This is because the crime time incident column of the last geojson file got messed up."
   ]
  },
  {
   "cell_type": "code",
   "execution_count": 208,
   "id": "6c8cf110",
   "metadata": {},
   "outputs": [
    {
     "data": {
      "text/plain": [
       "Index(['LOCATION_TEXT', 'BEAT', 'REPORT_NUMBER', 'LEGEND2', 'DISPO_TEXT',\n",
       "       'OBJECTID', 'geometry'],\n",
       "      dtype='object')"
      ]
     },
     "execution_count": 208,
     "metadata": {},
     "output_type": "execute_result"
    }
   ],
   "source": [
    "#This one missed create time incident\n",
    "#Time incident information is accidentally written in the LOCATION Text\n",
    "geojson_gdfs[35].columns"
   ]
  },
  {
   "cell_type": "code",
   "execution_count": null,
   "id": "59ac0dc2",
   "metadata": {},
   "outputs": [],
   "source": []
  },
  {
   "cell_type": "code",
   "execution_count": null,
   "id": "a99dcca9",
   "metadata": {},
   "outputs": [],
   "source": []
  },
  {
   "cell_type": "markdown",
   "id": "656e35fc",
   "metadata": {},
   "source": [
    "# Define Functions Automating the process"
   ]
  },
  {
   "cell_type": "markdown",
   "id": "bca2acf3",
   "metadata": {},
   "source": [
    "## Unpack function"
   ]
  },
  {
   "cell_type": "markdown",
   "id": "ff083de1",
   "metadata": {},
   "source": [
    "First function we define is called unpack which takes as input path name for the file and outputs a list of geo-dataframes representing each geojson file. The input must be a zip file path, and this zip file should contain geojson files with the format \"TOPS_24hrs_YYYYMMDD.geojson\".\n"
   ]
  },
  {
   "cell_type": "code",
   "execution_count": 93,
   "id": "136e0b2c",
   "metadata": {},
   "outputs": [],
   "source": [
    "def unpack(zip_file_path):\n",
    "    # Step1: Unzip the contents into the current directory or a specified path\n",
    "    with zipfile.ZipFile(zip_file_path, 'r') as zip_ref:\n",
    "        zip_ref.extractall('.')\n",
    "        \n",
    "    # Step2: Initialize an empty list to store each GeoDataFrame from each file\n",
    "    geojson_dir = './' # This will go into os.listdir() function as an input -- noting the corresponding directory\n",
    "    geojson_gdfs = []\n",
    "    # List all files in the directory and filter for GeoJSON files\n",
    "    geojson_files = [f for f in os.listdir(geojson_dir) if f.endswith('.geojson')]\n",
    "    # Step 3: Sort them by date\n",
    "    # extract_date is a function defined previously to help sort\n",
    "    geojson_files_sorted = sorted(geojson_files, key=extract_date)\n",
    "    \n",
    "    #Step 4: Read each GeoJSON file into a GeoDataFrame and append to the list\n",
    "    for filename in geojson_files_sorted:\n",
    "        file_path = os.path.join(geojson_dir, filename)\n",
    "        gdf = gpd.read_file(file_path)\n",
    "        geojson_gdfs.append(gdf)\n",
    "        \n",
    "    #Step 5: Output the list\n",
    "    return geojson_gdfs"
   ]
  },
  {
   "cell_type": "markdown",
   "id": "447fe3e2",
   "metadata": {},
   "source": [
    "## Merge Function"
   ]
  },
  {
   "cell_type": "markdown",
   "id": "20114305",
   "metadata": {},
   "source": [
    "There's a built in function to merge geodata frames. This will take as input a list containing the geo-data frames representing each geojson file. It will merge all and output as one geo-data frame."
   ]
  },
  {
   "cell_type": "code",
   "execution_count": 94,
   "id": "79f0b4d5",
   "metadata": {},
   "outputs": [],
   "source": [
    "def merge(list_of_geodataframes):\n",
    "    MERGEDALL = gpd.pd.concat(list_of_geodataframes,ignore_index = True)\n",
    "    return MERGEDALL"
   ]
  },
  {
   "cell_type": "code",
   "execution_count": null,
   "id": "089b6d5e",
   "metadata": {},
   "outputs": [],
   "source": []
  },
  {
   "cell_type": "code",
   "execution_count": null,
   "id": "2e446e69",
   "metadata": {},
   "outputs": [],
   "source": []
  },
  {
   "cell_type": "markdown",
   "id": "87a96835",
   "metadata": {},
   "source": [
    "# Histogram Function"
   ]
  },
  {
   "cell_type": "code",
   "execution_count": null,
   "id": "c9b02b74",
   "metadata": {},
   "outputs": [],
   "source": []
  }
 ],
 "metadata": {
  "kernelspec": {
   "display_name": "Python 3 (ipykernel)",
   "language": "python",
   "name": "python3"
  },
  "language_info": {
   "codemirror_mode": {
    "name": "ipython",
    "version": 3
   },
   "file_extension": ".py",
   "mimetype": "text/x-python",
   "name": "python",
   "nbconvert_exporter": "python",
   "pygments_lexer": "ipython3",
   "version": "3.11.5"
  }
 },
 "nbformat": 4,
 "nbformat_minor": 5
}
