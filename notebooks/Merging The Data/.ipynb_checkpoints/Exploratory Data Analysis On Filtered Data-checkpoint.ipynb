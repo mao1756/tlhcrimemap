{
 "cells": [
  {
   "cell_type": "code",
   "execution_count": 1,
   "id": "c93c27b5-5c26-43e7-ae2a-11f302ff8ae0",
   "metadata": {},
   "outputs": [],
   "source": [
    "import zipfile\n",
    "import os\n",
    "import io\n",
    "import geopandas as gpd\n",
    "import pandas as pd\n",
    "import matplotlib.pyplot as plt\n",
    "import re\n",
    "import numpy as np\n",
    "from datetime import datetime"
   ]
  },
  {
   "cell_type": "code",
   "execution_count": 19,
   "id": "15fe41f5-161e-44ac-bcd4-cb8110f123e3",
   "metadata": {},
   "outputs": [],
   "source": [
    "# This is how we upload the data we have\n",
    "# path to the zip file that contains 35 geojson files\n",
    "# each of which consists of daily reports of crime\n",
    "zip_file_path = './24hrs.zip' \n",
    "\n",
    "# using the zipfile module we initiate a ZipFile object to read our zip file contents\n",
    "# this object contains functions like .namelist() that will allow us to interact with the zip file contents\n",
    "zip_ref = zipfile.ZipFile(zip_file_path,'r')\n",
    "\n",
    "dataframes = [] # will store all geo data frames here\n",
    "for filename in zip_ref.namelist():\n",
    "    geojson = gpd.read_file(io.BytesIO(zip_ref.read(filename)))\n",
    "    dataframes.append(geojson)\n",
    "    "
   ]
  },
  {
   "cell_type": "code",
   "execution_count": 20,
   "id": "2f784d98-530f-4f6c-88eb-64b9992feb6d",
   "metadata": {},
   "outputs": [],
   "source": [
    "def merge(list_of_geodataframes):\n",
    "    MERGEDALL = gpd.pd.concat(list_of_geodataframes,ignore_index = True)\n",
    "    return MERGEDALL"
   ]
  },
  {
   "cell_type": "markdown",
   "id": "98cd03b8-9e6d-4101-a52b-adf57a065709",
   "metadata": {},
   "source": [
    "One file contains every day from 2023. We will merge it with what we have from 2024. It was not part of the zip file."
   ]
  },
  {
   "cell_type": "code",
   "execution_count": 21,
   "id": "db6dff2b-2c53-4403-ada4-f80e91c862a0",
   "metadata": {},
   "outputs": [
    {
     "data": {
      "text/plain": [
       "'../../dataset/TOPS 365days Jan 3.geojson'"
      ]
     },
     "execution_count": 21,
     "metadata": {},
     "output_type": "execute_result"
    }
   ],
   "source": [
    "# The file's name is TOPS 365days Jan3\n",
    "# This time all we need is the path of the file\n",
    "file_path = '../../dataset/TOPS 365days Jan 3.geojson'\n",
    "file_path"
   ]
  },
  {
   "cell_type": "code",
   "execution_count": 22,
   "id": "0e49c9f3-31f8-448f-ac3d-c5ced35348b2",
   "metadata": {},
   "outputs": [],
   "source": [
    "# Convert it to geo data frame\n",
    "gdf_2023 = gpd.read_file(file_path)\n"
   ]
  },
  {
   "cell_type": "code",
   "execution_count": 23,
   "id": "d45b8da5-f61b-4567-9f75-e5f5917c95d4",
   "metadata": {},
   "outputs": [],
   "source": [
    "# Append the 2023 data to the current list\n",
    "# In fact insert to the beginning\n",
    "dataframes.insert(0,gdf_2023)"
   ]
  },
  {
   "cell_type": "code",
   "execution_count": 24,
   "id": "18929063-a033-4828-a92a-6f04bca84890",
   "metadata": {},
   "outputs": [
    {
     "data": {
      "text/plain": [
       "36"
      ]
     },
     "execution_count": 24,
     "metadata": {},
     "output_type": "execute_result"
    }
   ],
   "source": [
    "# All of them are in this list now\n",
    "len(dataframes)"
   ]
  },
  {
   "cell_type": "code",
   "execution_count": 25,
   "id": "7b7b48a0-b331-43f0-8bae-3f43a17a3d2b",
   "metadata": {},
   "outputs": [],
   "source": [
    "# Merge all of them to make one giant geo data frame\n",
    "MERGEDALL = merge(dataframes)"
   ]
  },
  {
   "cell_type": "code",
   "execution_count": 28,
   "id": "7593b943-896d-4ebf-b57d-aa39a822459f",
   "metadata": {},
   "outputs": [
    {
     "data": {
      "text/html": [
       "<div>\n",
       "<style scoped>\n",
       "    .dataframe tbody tr th:only-of-type {\n",
       "        vertical-align: middle;\n",
       "    }\n",
       "\n",
       "    .dataframe tbody tr th {\n",
       "        vertical-align: top;\n",
       "    }\n",
       "\n",
       "    .dataframe thead th {\n",
       "        text-align: right;\n",
       "    }\n",
       "</style>\n",
       "<table border=\"1\" class=\"dataframe\">\n",
       "  <thead>\n",
       "    <tr style=\"text-align: right;\">\n",
       "      <th></th>\n",
       "      <th>CREATE_TIME_INCIDENT</th>\n",
       "      <th>LOCATION_TEXT</th>\n",
       "      <th>BEAT</th>\n",
       "      <th>REPORT_NUMBER</th>\n",
       "      <th>LEGEND2</th>\n",
       "      <th>DISPO_TEXT</th>\n",
       "      <th>OBJECTID</th>\n",
       "      <th>geometry</th>\n",
       "    </tr>\n",
       "  </thead>\n",
       "  <tbody>\n",
       "    <tr>\n",
       "      <th>151046</th>\n",
       "      <td>2024-01-06 19:27:17</td>\n",
       "      <td>None</td>\n",
       "      <td>NE1</td>\n",
       "      <td>None</td>\n",
       "      <td>159</td>\n",
       "      <td>MISC SERVICE CALL</td>\n",
       "      <td>303</td>\n",
       "      <td>POINT (-9375426.63790 3578494.57520)</td>\n",
       "    </tr>\n",
       "    <tr>\n",
       "      <th>156172</th>\n",
       "      <td>2024-01-21 16:59:00</td>\n",
       "      <td>FOUR OAKS PARK</td>\n",
       "      <td>9</td>\n",
       "      <td>None</td>\n",
       "      <td>505</td>\n",
       "      <td>COMMUNITY POLICING</td>\n",
       "      <td>281</td>\n",
       "      <td>POINT (-9376032.03670 3552614.50580)</td>\n",
       "    </tr>\n",
       "    <tr>\n",
       "      <th>156173</th>\n",
       "      <td>2024-01-21 17:09:05</td>\n",
       "      <td>DOLLAR GENERAL</td>\n",
       "      <td>11</td>\n",
       "      <td>None</td>\n",
       "      <td>505</td>\n",
       "      <td>COMMUNITY POLICING</td>\n",
       "      <td>282</td>\n",
       "      <td>POINT (-9384451.08090 3557823.05850)</td>\n",
       "    </tr>\n",
       "    <tr>\n",
       "      <th>157703</th>\n",
       "      <td>2024-01-27 09:09:31</td>\n",
       "      <td>RUEDIGER ELEMENTARY SCHOOL</td>\n",
       "      <td>15</td>\n",
       "      <td>None</td>\n",
       "      <td>505</td>\n",
       "      <td>COMMUNITY POLICING</td>\n",
       "      <td>1</td>\n",
       "      <td>POINT (-9382956.09570 3563054.36450)</td>\n",
       "    </tr>\n",
       "    <tr>\n",
       "      <th>157704</th>\n",
       "      <td>2024-01-27 03:42:28</td>\n",
       "      <td>GOOD SAMARITAN ACADEMY</td>\n",
       "      <td>9</td>\n",
       "      <td>None</td>\n",
       "      <td>505</td>\n",
       "      <td>COMMUNITY POLICING</td>\n",
       "      <td>2</td>\n",
       "      <td>POINT (-9377140.43270 3554561.34980)</td>\n",
       "    </tr>\n",
       "    <tr>\n",
       "      <th>...</th>\n",
       "      <td>...</td>\n",
       "      <td>...</td>\n",
       "      <td>...</td>\n",
       "      <td>...</td>\n",
       "      <td>...</td>\n",
       "      <td>...</td>\n",
       "      <td>...</td>\n",
       "      <td>...</td>\n",
       "    </tr>\n",
       "    <tr>\n",
       "      <th>161193</th>\n",
       "      <td>2024-01-28 13:47:23</td>\n",
       "      <td>AENON BAPTIST CHURCH</td>\n",
       "      <td>SW1</td>\n",
       "      <td>None</td>\n",
       "      <td>505</td>\n",
       "      <td>COMMUNITY POLICING</td>\n",
       "      <td>331</td>\n",
       "      <td>POINT (-9393031.19420 3559657.23630)</td>\n",
       "    </tr>\n",
       "    <tr>\n",
       "      <th>161194</th>\n",
       "      <td>2024-01-28 20:29:36</td>\n",
       "      <td>AMAZON FULFILLMENT CENTER</td>\n",
       "      <td>NE4</td>\n",
       "      <td>None</td>\n",
       "      <td>505</td>\n",
       "      <td>COMMUNITY POLICING</td>\n",
       "      <td>332</td>\n",
       "      <td>POINT (-9369634.07030 3566571.91980)</td>\n",
       "    </tr>\n",
       "    <tr>\n",
       "      <th>161195</th>\n",
       "      <td>2024-01-28 20:31:11</td>\n",
       "      <td>None</td>\n",
       "      <td>SE2</td>\n",
       "      <td>None</td>\n",
       "      <td>152</td>\n",
       "      <td>SUSPICIOUS</td>\n",
       "      <td>333</td>\n",
       "      <td>POINT (-9366706.13170 3555347.64320)</td>\n",
       "    </tr>\n",
       "    <tr>\n",
       "      <th>161196</th>\n",
       "      <td>2024-01-28 20:36:09</td>\n",
       "      <td>None</td>\n",
       "      <td>SW3</td>\n",
       "      <td>None</td>\n",
       "      <td>159</td>\n",
       "      <td>MISC SERVICE CALL</td>\n",
       "      <td>334</td>\n",
       "      <td>POINT (-9382658.75470 3553705.96660)</td>\n",
       "    </tr>\n",
       "    <tr>\n",
       "      <th>161197</th>\n",
       "      <td>2024-01-29 05:25:42</td>\n",
       "      <td>WAL-MART SUPERCENTER</td>\n",
       "      <td>NW1</td>\n",
       "      <td>None</td>\n",
       "      <td>505</td>\n",
       "      <td>COMMUNITY POLICING</td>\n",
       "      <td>335</td>\n",
       "      <td>POINT (-9386298.36210 3566542.08400)</td>\n",
       "    </tr>\n",
       "  </tbody>\n",
       "</table>\n",
       "<p>3163 rows × 8 columns</p>\n",
       "</div>"
      ],
      "text/plain": [
       "       CREATE_TIME_INCIDENT               LOCATION_TEXT BEAT REPORT_NUMBER  \\\n",
       "151046  2024-01-06 19:27:17                        None  NE1          None   \n",
       "156172  2024-01-21 16:59:00              FOUR OAKS PARK    9          None   \n",
       "156173  2024-01-21 17:09:05              DOLLAR GENERAL   11          None   \n",
       "157703  2024-01-27 09:09:31  RUEDIGER ELEMENTARY SCHOOL   15          None   \n",
       "157704  2024-01-27 03:42:28      GOOD SAMARITAN ACADEMY    9          None   \n",
       "...                     ...                         ...  ...           ...   \n",
       "161193  2024-01-28 13:47:23        AENON BAPTIST CHURCH  SW1          None   \n",
       "161194  2024-01-28 20:29:36   AMAZON FULFILLMENT CENTER  NE4          None   \n",
       "161195  2024-01-28 20:31:11                        None  SE2          None   \n",
       "161196  2024-01-28 20:36:09                        None  SW3          None   \n",
       "161197  2024-01-29 05:25:42        WAL-MART SUPERCENTER  NW1          None   \n",
       "\n",
       "       LEGEND2          DISPO_TEXT OBJECTID  \\\n",
       "151046     159   MISC SERVICE CALL      303   \n",
       "156172     505  COMMUNITY POLICING      281   \n",
       "156173     505  COMMUNITY POLICING      282   \n",
       "157703     505  COMMUNITY POLICING        1   \n",
       "157704     505  COMMUNITY POLICING        2   \n",
       "...        ...                 ...      ...   \n",
       "161193     505  COMMUNITY POLICING      331   \n",
       "161194     505  COMMUNITY POLICING      332   \n",
       "161195     152         SUSPICIOUS       333   \n",
       "161196     159   MISC SERVICE CALL      334   \n",
       "161197     505  COMMUNITY POLICING      335   \n",
       "\n",
       "                                    geometry  \n",
       "151046  POINT (-9375426.63790 3578494.57520)  \n",
       "156172  POINT (-9376032.03670 3552614.50580)  \n",
       "156173  POINT (-9384451.08090 3557823.05850)  \n",
       "157703  POINT (-9382956.09570 3563054.36450)  \n",
       "157704  POINT (-9377140.43270 3554561.34980)  \n",
       "...                                      ...  \n",
       "161193  POINT (-9393031.19420 3559657.23630)  \n",
       "161194  POINT (-9369634.07030 3566571.91980)  \n",
       "161195  POINT (-9366706.13170 3555347.64320)  \n",
       "161196  POINT (-9382658.75470 3553705.96660)  \n",
       "161197  POINT (-9386298.36210 3566542.08400)  \n",
       "\n",
       "[3163 rows x 8 columns]"
      ]
     },
     "execution_count": 28,
     "metadata": {},
     "output_type": "execute_result"
    }
   ],
   "source": [
    "duplicates = MERGEDALL.duplicated()\n",
    "MERGEDALL[duplicates]"
   ]
  },
  {
   "cell_type": "markdown",
   "id": "5149cf31-4f25-4e97-89ba-ed5e28c1eb2d",
   "metadata": {},
   "source": [
    "We will drop the duplicates"
   ]
  },
  {
   "cell_type": "code",
   "execution_count": 57,
   "id": "084db322-485b-4c47-95e1-7b9ad56208fd",
   "metadata": {},
   "outputs": [],
   "source": [
    "DF = MERGEDALL.drop_duplicates()"
   ]
  },
  {
   "cell_type": "markdown",
   "id": "eb7e75cf-c79a-4c2c-a5a9-51098259c52c",
   "metadata": {},
   "source": [
    "# Histogram Functions"
   ]
  },
  {
   "cell_type": "markdown",
   "id": "1cbcd21f-530a-44d0-9060-129ad5dc92e7",
   "metadata": {},
   "source": [
    "We will define histogram functions that will display histograms for daily, weekly and montly bins."
   ]
  },
  {
   "cell_type": "code",
   "execution_count": 58,
   "id": "fc8854bf-dc18-42e1-a81b-f43517c61f05",
   "metadata": {},
   "outputs": [],
   "source": [
    "def HistogramMonthly(DataFrame):\n",
    "    create_time_incident = DataFrame.columns[0] #This should be the Create Time Incident Column\n",
    "    date_counts = DataFrame[create_time_incident].dt.date.value_counts() #Returns a series of time incident <--> number of occurences\n",
    "    date_counts_sorted = date_counts.sort_index()#sorts it with respect to date\n",
    "   # Convert the index to datetime to ensure proper grouping\n",
    "    date_counts_sorted.index = pd.to_datetime(date_counts_sorted.index)\n",
    "    # Group by year and month, and sum the counts for each month\n",
    "    monthly_counts = date_counts_sorted.groupby([date_counts_sorted.index.year, date_counts_sorted.index.month]).sum()\n",
    "\n",
    "    # Plotting the histogram with monthly bins\n",
    "    monthly_counts.plot(kind='bar', figsize=(15, 7))\n",
    "\n",
    "    plt.title('Number of Incidents per Month')\n",
    "    plt.xlabel('Month')\n",
    "    plt.ylabel('Number of Incidents')\n",
    "    plt.xticks(rotation=45)  # Rotate the x-axis labels to show them more clearly\n",
    "    plt.tight_layout()  # Adjust the layout so everything fits without overlapping\n",
    "\n",
    "    # plt.show()\n",
    "\n",
    "    "
   ]
  },
  {
   "cell_type": "code",
   "execution_count": 59,
   "id": "23c4d8f3-841d-41ec-a008-8c074879fb02",
   "metadata": {},
   "outputs": [],
   "source": [
    "def HistogramWeekly(DataFrame):\n",
    "    create_time_incident = DataFrame.columns[0]  # This should be the Create Time Incident Column\n",
    "    date_counts = DataFrame[create_time_incident].dt.date.value_counts()  # Returns a series of time incident <--> number of occurrences\n",
    "    date_counts_sorted = date_counts.sort_index()  # sorts it with respect to date\n",
    "    \n",
    "    # Convert the index to datetime to ensure proper grouping\n",
    "    date_counts_sorted.index = pd.to_datetime(date_counts_sorted.index)\n",
    "    \n",
    "    # Group by year and week, and sum the counts for each week\n",
    "    weekly_counts = date_counts_sorted.resample('W').sum()\n",
    "    \n",
    "    # Plotting the histogram with weekly bins\n",
    "    weekly_counts.plot(kind='bar', figsize=(15, 7))\n",
    "    \n",
    "    plt.title('Number of Incidents per Week')\n",
    "    plt.xlabel('Week')\n",
    "    plt.ylabel('Number of Incidents')\n",
    "    plt.xticks(rotation=45)  # Rotate the x-axis labels to show them more clearly\n",
    "    plt.tight_layout()  # Adjust the layout so everything fits without overlapping\n",
    "    \n",
    "    # plt.show()\n",
    "\n",
    "# Now you can call this function passing any DataFrame that has a datetime column as the first column\n",
    "# For example:\n",
    "# HistogramWeekly(gdf[34])\n"
   ]
  },
  {
   "cell_type": "code",
   "execution_count": 60,
   "id": "00f61396-28d1-4cf0-977f-6a0b46bcee6f",
   "metadata": {},
   "outputs": [],
   "source": [
    "def HistogramDaily(DataFrame):\n",
    "    create_time_incident = DataFrame.columns[0]  # This should be the Create Time Incident Column\n",
    "    date_counts = DataFrame[create_time_incident].dt.date.value_counts()  # Returns a series of time incident <--> number of occurrences\n",
    "    date_counts_sorted = date_counts.sort_index()  # sorts it with respect to date\n",
    "    \n",
    "    # Convert the index to datetime to ensure proper grouping\n",
    "    date_counts_sorted.index = pd.to_datetime(date_counts_sorted.index)\n",
    "    \n",
    "    # Group by day and sum the counts for each day\n",
    "    daily_counts = date_counts_sorted.resample('D').sum()\n",
    "    \n",
    "    # Plotting the histogram with daily bins\n",
    "    daily_counts.plot(kind='bar', figsize=(15, 7))\n",
    "    \n",
    "    plt.title('Number of Incidents per Day')\n",
    "    plt.xlabel('Day')\n",
    "    plt.ylabel('Number of Incidents')\n",
    "    plt.xticks([])  # Remove x-axis labels to avoid clutter\n",
    "    plt.tight_layout()  # Adjust the layout so everything fits without overlapping\n",
    "    \n",
    "    # plt.show()\n",
    "\n",
    "# You would call this function with a DataFrame like so:\n",
    "# HistogramDaily(gdfs[35])\n"
   ]
  },
  {
   "cell_type": "markdown",
   "id": "8efbc88c-0e2e-4040-a4aa-65305333efb9",
   "metadata": {},
   "source": [
    "# Introductory Analysis"
   ]
  },
  {
   "cell_type": "code",
   "execution_count": 68,
   "id": "7a395f00-d018-416c-bbb5-85f22c8f8ce8",
   "metadata": {},
   "outputs": [],
   "source": [
    "unwanted_locations = ['LEON CO DETENTION FACILITY', 'TALLAHASSEE POLICE DEPARTMENT', 'LCSO', 'TPD', 'LEON CO SHERIFFS OFFICE', 'IMMIGRATION & CUSTOMS ENFORCEM']"
   ]
  },
  {
   "cell_type": "code",
   "execution_count": 70,
   "id": "5c7e8a51-f253-4fca-a38d-d4cd6a768202",
   "metadata": {},
   "outputs": [],
   "source": [
    "location_filtered_df = DF[~DF['LOCATION_TEXT'].isin(unwanted_locations)]"
   ]
  },
  {
   "cell_type": "code",
   "execution_count": 69,
   "id": "5e06d9d3-608d-4a1d-b091-2218f0ac9793",
   "metadata": {},
   "outputs": [],
   "source": [
    "unwanted_categories = [\"COMMUNITY POLICING\", \"ADMIN\", \"RECOVERED PROP\", \"AUTO THEFT RECOVERY\",\"UNABLE TO VERIFY\", \"TRAFFIC\"]"
   ]
  },
  {
   "cell_type": "code",
   "execution_count": 71,
   "id": "f4bccefe-92d0-4e5e-b0f4-d0eb3d6a5030",
   "metadata": {},
   "outputs": [
    {
     "data": {
      "text/html": [
       "<div>\n",
       "<style scoped>\n",
       "    .dataframe tbody tr th:only-of-type {\n",
       "        vertical-align: middle;\n",
       "    }\n",
       "\n",
       "    .dataframe tbody tr th {\n",
       "        vertical-align: top;\n",
       "    }\n",
       "\n",
       "    .dataframe thead th {\n",
       "        text-align: right;\n",
       "    }\n",
       "</style>\n",
       "<table border=\"1\" class=\"dataframe\">\n",
       "  <thead>\n",
       "    <tr style=\"text-align: right;\">\n",
       "      <th></th>\n",
       "      <th>CREATE_TIME_INCIDENT</th>\n",
       "      <th>LOCATION_TEXT</th>\n",
       "      <th>BEAT</th>\n",
       "      <th>REPORT_NUMBER</th>\n",
       "      <th>LEGEND2</th>\n",
       "      <th>DISPO_TEXT</th>\n",
       "      <th>OBJECTID</th>\n",
       "      <th>geometry</th>\n",
       "    </tr>\n",
       "  </thead>\n",
       "  <tbody>\n",
       "    <tr>\n",
       "      <th>0</th>\n",
       "      <td>2023-11-10 21:12:47</td>\n",
       "      <td>None</td>\n",
       "      <td>18</td>\n",
       "      <td>2023-00196053</td>\n",
       "      <td>122</td>\n",
       "      <td>DISORDERLY INTOXICATION</td>\n",
       "      <td>1</td>\n",
       "      <td>POINT (-9386627.75200 3565111.39140)</td>\n",
       "    </tr>\n",
       "    <tr>\n",
       "      <th>1</th>\n",
       "      <td>2023-08-31 01:41:41</td>\n",
       "      <td>None</td>\n",
       "      <td>17</td>\n",
       "      <td>None</td>\n",
       "      <td>152</td>\n",
       "      <td>SUSPICIOUS</td>\n",
       "      <td>2</td>\n",
       "      <td>POINT (-9388266.65440 3561752.12860)</td>\n",
       "    </tr>\n",
       "    <tr>\n",
       "      <th>2</th>\n",
       "      <td>2023-08-01 16:23:09</td>\n",
       "      <td>None</td>\n",
       "      <td>4</td>\n",
       "      <td>2023-00132523</td>\n",
       "      <td>104</td>\n",
       "      <td>AUTO THEFT</td>\n",
       "      <td>3</td>\n",
       "      <td>POINT (-9376397.42740 3566294.16600)</td>\n",
       "    </tr>\n",
       "    <tr>\n",
       "      <th>3</th>\n",
       "      <td>2023-09-01 00:20:51</td>\n",
       "      <td>PLANTATION CONDOS</td>\n",
       "      <td>14</td>\n",
       "      <td>None</td>\n",
       "      <td>152</td>\n",
       "      <td>SUSPICIOUS</td>\n",
       "      <td>4</td>\n",
       "      <td>POINT (-9386699.50640 3560238.44430)</td>\n",
       "    </tr>\n",
       "    <tr>\n",
       "      <th>4</th>\n",
       "      <td>2023-09-29 17:56:38</td>\n",
       "      <td>None</td>\n",
       "      <td>8</td>\n",
       "      <td>2023-00170694</td>\n",
       "      <td>302</td>\n",
       "      <td>CRASH WITH INJURIES</td>\n",
       "      <td>5</td>\n",
       "      <td>POINT (-9376069.55250 3558656.45000)</td>\n",
       "    </tr>\n",
       "    <tr>\n",
       "      <th>...</th>\n",
       "      <td>...</td>\n",
       "      <td>...</td>\n",
       "      <td>...</td>\n",
       "      <td>...</td>\n",
       "      <td>...</td>\n",
       "      <td>...</td>\n",
       "      <td>...</td>\n",
       "      <td>...</td>\n",
       "    </tr>\n",
       "    <tr>\n",
       "      <th>158390</th>\n",
       "      <td>2024-01-28 21:58:47</td>\n",
       "      <td>CIRCLE K</td>\n",
       "      <td>1</td>\n",
       "      <td>2024-00016372</td>\n",
       "      <td>146</td>\n",
       "      <td>THEFT - PETIT</td>\n",
       "      <td>324</td>\n",
       "      <td>POINT (-9378627.68330 3569037.40910)</td>\n",
       "    </tr>\n",
       "    <tr>\n",
       "      <th>158391</th>\n",
       "      <td>2024-01-29 00:55:42</td>\n",
       "      <td>CIRCLE K</td>\n",
       "      <td>17</td>\n",
       "      <td>None</td>\n",
       "      <td>152</td>\n",
       "      <td>SUSPICIOUS</td>\n",
       "      <td>325</td>\n",
       "      <td>POINT (-9391746.53840 3562502.38510)</td>\n",
       "    </tr>\n",
       "    <tr>\n",
       "      <th>158393</th>\n",
       "      <td>2024-01-29 01:01:33</td>\n",
       "      <td>MCDONALDS</td>\n",
       "      <td>15</td>\n",
       "      <td>None</td>\n",
       "      <td>152</td>\n",
       "      <td>SUSPICIOUS</td>\n",
       "      <td>327</td>\n",
       "      <td>POINT (-9383527.14910 3560893.23170)</td>\n",
       "    </tr>\n",
       "    <tr>\n",
       "      <th>158399</th>\n",
       "      <td>2024-01-28 20:31:11</td>\n",
       "      <td>None</td>\n",
       "      <td>SE2</td>\n",
       "      <td>None</td>\n",
       "      <td>152</td>\n",
       "      <td>SUSPICIOUS</td>\n",
       "      <td>333</td>\n",
       "      <td>POINT (-9366706.13170 3555347.64320)</td>\n",
       "    </tr>\n",
       "    <tr>\n",
       "      <th>158400</th>\n",
       "      <td>2024-01-28 20:36:09</td>\n",
       "      <td>None</td>\n",
       "      <td>SW3</td>\n",
       "      <td>None</td>\n",
       "      <td>159</td>\n",
       "      <td>MISC SERVICE CALL</td>\n",
       "      <td>334</td>\n",
       "      <td>POINT (-9382658.75470 3553705.96660)</td>\n",
       "    </tr>\n",
       "  </tbody>\n",
       "</table>\n",
       "<p>95048 rows × 8 columns</p>\n",
       "</div>"
      ],
      "text/plain": [
       "       CREATE_TIME_INCIDENT      LOCATION_TEXT BEAT  REPORT_NUMBER LEGEND2  \\\n",
       "0       2023-11-10 21:12:47               None   18  2023-00196053     122   \n",
       "1       2023-08-31 01:41:41               None   17           None     152   \n",
       "2       2023-08-01 16:23:09               None    4  2023-00132523     104   \n",
       "3       2023-09-01 00:20:51  PLANTATION CONDOS   14           None     152   \n",
       "4       2023-09-29 17:56:38               None    8  2023-00170694     302   \n",
       "...                     ...                ...  ...            ...     ...   \n",
       "158390  2024-01-28 21:58:47           CIRCLE K    1  2024-00016372     146   \n",
       "158391  2024-01-29 00:55:42           CIRCLE K   17           None     152   \n",
       "158393  2024-01-29 01:01:33          MCDONALDS   15           None     152   \n",
       "158399  2024-01-28 20:31:11               None  SE2           None     152   \n",
       "158400  2024-01-28 20:36:09               None  SW3           None     159   \n",
       "\n",
       "                     DISPO_TEXT OBJECTID                              geometry  \n",
       "0       DISORDERLY INTOXICATION        1  POINT (-9386627.75200 3565111.39140)  \n",
       "1                   SUSPICIOUS         2  POINT (-9388266.65440 3561752.12860)  \n",
       "2                    AUTO THEFT        3  POINT (-9376397.42740 3566294.16600)  \n",
       "3                   SUSPICIOUS         4  POINT (-9386699.50640 3560238.44430)  \n",
       "4           CRASH WITH INJURIES        5  POINT (-9376069.55250 3558656.45000)  \n",
       "...                         ...      ...                                   ...  \n",
       "158390            THEFT - PETIT      324  POINT (-9378627.68330 3569037.40910)  \n",
       "158391              SUSPICIOUS       325  POINT (-9391746.53840 3562502.38510)  \n",
       "158393              SUSPICIOUS       327  POINT (-9383527.14910 3560893.23170)  \n",
       "158399              SUSPICIOUS       333  POINT (-9366706.13170 3555347.64320)  \n",
       "158400        MISC SERVICE CALL      334  POINT (-9382658.75470 3553705.96660)  \n",
       "\n",
       "[95048 rows x 8 columns]"
      ]
     },
     "execution_count": 71,
     "metadata": {},
     "output_type": "execute_result"
    }
   ],
   "source": [
    "# Applying both filters\n",
    "final_filtered_df = location_filtered_df[~location_filtered_df['DISPO_TEXT'].isin(unwanted_categories)]\n",
    "final_filtered_df"
   ]
  },
  {
   "cell_type": "code",
   "execution_count": 72,
   "id": "8c1c1ff4-21f4-4556-b873-b4cdbed3f356",
   "metadata": {},
   "outputs": [],
   "source": [
    "df = final_filtered_df"
   ]
  },
  {
   "cell_type": "code",
   "execution_count": 73,
   "id": "1769af6f-3523-4215-a0bf-3b2ae77ed772",
   "metadata": {},
   "outputs": [
    {
     "data": {
      "text/plain": [
       "CREATE_TIME_INCIDENT\n",
       "2023-01-02     14\n",
       "2023-01-03    234\n",
       "2023-01-04    190\n",
       "2023-01-05    241\n",
       "2023-01-06    252\n",
       "             ... \n",
       "2024-01-25    232\n",
       "2024-01-26    306\n",
       "2024-01-27    183\n",
       "2024-01-28    171\n",
       "2024-01-29     28\n",
       "Name: count, Length: 393, dtype: int64"
      ]
     },
     "execution_count": 73,
     "metadata": {},
     "output_type": "execute_result"
    }
   ],
   "source": [
    "CTI = df['CREATE_TIME_INCIDENT'].dt.date.value_counts().sort_index()\n",
    "CTI"
   ]
  },
  {
   "cell_type": "markdown",
   "id": "da0c07df-b8dc-42e2-bf39-cdb7173aef9e",
   "metadata": {},
   "source": [
    "Number of incidents on average per month"
   ]
  },
  {
   "cell_type": "code",
   "execution_count": 74,
   "id": "fa350546-9ef2-4734-b8ec-ebc74562192a",
   "metadata": {},
   "outputs": [
    {
     "data": {
      "text/plain": [
       "7311"
      ]
     },
     "execution_count": 74,
     "metadata": {},
     "output_type": "execute_result"
    }
   ],
   "source": [
    "CTI.index = pd.to_datetime(CTI.index) # This is needed to use resample method allowing us to resample dates by the day, week or month, year etc.\n",
    "Monthly_CTI = CTI.resample('M').sum()\n",
    "Monthly_mean = int(np.mean(Monthly_CTI)) #check the mean\n",
    "Monthly_mean"
   ]
  },
  {
   "cell_type": "code",
   "execution_count": 75,
   "id": "95bf5b05-83e8-4432-bc23-298331f8ab72",
   "metadata": {},
   "outputs": [
    {
     "data": {
      "image/png": "[encoded data removed]",
      "text/plain": [
       "<Figure size 1500x700 with 1 Axes>"
      ]
     },
     "metadata": {},
     "output_type": "display_data"
    }
   ],
   "source": [
    "# Number of incidents occured per month\n",
    "HistogramMonthly(df)\n",
    "plt.axhline(y = Monthly_mean,color='r',label='Mean')\n",
    "plt.legend()\n",
    "plt.show()"
   ]
  },
  {
   "cell_type": "markdown",
   "id": "5c2a4e83-d1be-405b-8f51-907510365622",
   "metadata": {},
   "source": [
    "# "
   ]
  }
 ],
 "metadata": {
  "kernelspec": {
   "display_name": "Python 3 (ipykernel)",
   "language": "python",
   "name": "python3"
  },
  "language_info": {
   "codemirror_mode": {
    "name": "ipython",
    "version": 3
   },
   "file_extension": ".py",
   "mimetype": "text/x-python",
   "name": "python",
   "nbconvert_exporter": "python",
   "pygments_lexer": "ipython3",
   "version": "3.11.5"
  }
 },
 "nbformat": 4,
 "nbformat_minor": 5
}
