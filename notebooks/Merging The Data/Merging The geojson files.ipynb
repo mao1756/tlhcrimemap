{
 "cells": [
  {
   "cell_type": "markdown",
   "id": "aef99196",
   "metadata": {},
   "source": [
    "# Zip Upload"
   ]
  },
  {
   "cell_type": "markdown",
   "id": "9a67dc26",
   "metadata": {},
   "source": [
    "We have 36 geojson files each containing a number of reports with 8 columns. One of them will contain reports of 365 days, and the other 35 will be in 24hr format starting from Jan 1, 2024."
   ]
  },
  {
   "cell_type": "code",
   "execution_count": 1,
   "id": "74d7a542",
   "metadata": {},
   "outputs": [],
   "source": [
    "import zipfile\n",
    "import os\n",
    "import geopandas as gpd\n",
    "import matplotlib.pyplot as plt\n",
    "import re\n",
    "from datetime import datetime"
   ]
  },
  {
   "cell_type": "code",
   "execution_count": 2,
   "id": "87797a86",
   "metadata": {},
   "outputs": [],
   "source": [
    "zip_file_path = '/Users/cgty/Library/Mobile Documents/com~apple~CloudDocs/CLASSES/FSU/Spring 2024/ERDOS2024/CLONE/tlhcrimemap/ALL DATA MERGED/24hrs.zip'"
   ]
  },
  {
   "cell_type": "markdown",
   "id": "998184fd",
   "metadata": {},
   "source": [
    "We will unpack the contents in the zip file names '24hrs.zip'"
   ]
  },
  {
   "cell_type": "code",
   "execution_count": 3,
   "id": "dccd201c",
   "metadata": {},
   "outputs": [
    {
     "ename": "FileNotFoundError",
     "evalue": "[Errno 2] No such file or directory: '/Users/cgty/Library/Mobile Documents/com~apple~CloudDocs/CLASSES/FSU/Spring 2024/ERDOS2024/CLONE/tlhcrimemap/ALL DATA MERGED/24hrs.zip'",
     "output_type": "error",
     "traceback": [
      "\u001b[0;31m---------------------------------------------------------------------------\u001b[0m",
      "\u001b[0;31mFileNotFoundError\u001b[0m                         Traceback (most recent call last)",
      "Cell \u001b[0;32mIn[3], line 2\u001b[0m\n\u001b[1;32m      1\u001b[0m \u001b[38;5;66;03m# Unzip the contents into the current directory or a specified path\u001b[39;00m\n\u001b[0;32m----> 2\u001b[0m \u001b[38;5;28;01mwith\u001b[39;00m zipfile\u001b[38;5;241m.\u001b[39mZipFile(zip_file_path, \u001b[38;5;124m'\u001b[39m\u001b[38;5;124mr\u001b[39m\u001b[38;5;124m'\u001b[39m) \u001b[38;5;28;01mas\u001b[39;00m zip_ref:\n\u001b[1;32m      3\u001b[0m     zip_ref\u001b[38;5;241m.\u001b[39mextractall(\u001b[38;5;124m'\u001b[39m\u001b[38;5;124m.\u001b[39m\u001b[38;5;124m'\u001b[39m)\n\u001b[1;32m      5\u001b[0m \u001b[38;5;28mprint\u001b[39m(\u001b[38;5;124m\"\u001b[39m\u001b[38;5;124mUnzipped the contents.\u001b[39m\u001b[38;5;124m\"\u001b[39m)\n",
      "File \u001b[0;32m~/anaconda3/lib/python3.11/zipfile.py:1284\u001b[0m, in \u001b[0;36mZipFile.__init__\u001b[0;34m(self, file, mode, compression, allowZip64, compresslevel, strict_timestamps, metadata_encoding)\u001b[0m\n\u001b[1;32m   1282\u001b[0m \u001b[38;5;28;01mwhile\u001b[39;00m \u001b[38;5;28;01mTrue\u001b[39;00m:\n\u001b[1;32m   1283\u001b[0m     \u001b[38;5;28;01mtry\u001b[39;00m:\n\u001b[0;32m-> 1284\u001b[0m         \u001b[38;5;28mself\u001b[39m\u001b[38;5;241m.\u001b[39mfp \u001b[38;5;241m=\u001b[39m io\u001b[38;5;241m.\u001b[39mopen(file, filemode)\n\u001b[1;32m   1285\u001b[0m     \u001b[38;5;28;01mexcept\u001b[39;00m \u001b[38;5;167;01mOSError\u001b[39;00m:\n\u001b[1;32m   1286\u001b[0m         \u001b[38;5;28;01mif\u001b[39;00m filemode \u001b[38;5;129;01min\u001b[39;00m modeDict:\n",
      "\u001b[0;31mFileNotFoundError\u001b[0m: [Errno 2] No such file or directory: '/Users/cgty/Library/Mobile Documents/com~apple~CloudDocs/CLASSES/FSU/Spring 2024/ERDOS2024/CLONE/tlhcrimemap/ALL DATA MERGED/24hrs.zip'"
     ]
    }
   ],
   "source": [
    "# Unzip the contents into the current directory or a specified path\n",
    "with zipfile.ZipFile(zip_file_path, 'r') as zip_ref:\n",
    "    zip_ref.extractall('.')\n",
    "\n",
    "print(\"Unzipped the contents.\")\n"
   ]
  },
  {
   "cell_type": "code",
   "execution_count": null,
   "id": "76c22b86",
   "metadata": {},
   "outputs": [],
   "source": [
    "!ls"
   ]
  },
  {
   "cell_type": "markdown",
   "id": "f6ce2a84",
   "metadata": {},
   "source": [
    "We will now add each file into a list."
   ]
  },
  {
   "cell_type": "code",
   "execution_count": 4,
   "id": "4548d0bc",
   "metadata": {},
   "outputs": [],
   "source": [
    "geojson_dir = './' # This will go into os.listdir() function as an input -- noting the corresponding directory\n"
   ]
  },
  {
   "cell_type": "code",
   "execution_count": 5,
   "id": "b3fd769c",
   "metadata": {},
   "outputs": [],
   "source": [
    "# Initialize an empty list to store the GeoDataFrames\n",
    "geojson_gdfs = []\n",
    "\n",
    "# List all files in the directory and filter for GeoJSON files\n",
    "geojson_files = [f for f in os.listdir(geojson_dir) if f.endswith('.geojson')]"
   ]
  },
  {
   "cell_type": "code",
   "execution_count": 6,
   "id": "1e552e88",
   "metadata": {},
   "outputs": [],
   "source": [
    "# The file with index 10 contains all year\n",
    "# We will move it to the beginning of the list\n",
    "geojson_files[0],geojson_files[10] = geojson_files[10],geojson_files[0]"
   ]
  },
  {
   "cell_type": "markdown",
   "id": "4789d625",
   "metadata": {},
   "source": [
    "We need the sort the dates before we read them into a GeoDataFrame. Cell below shows the current order."
   ]
  },
  {
   "cell_type": "code",
   "execution_count": 7,
   "id": "1e304953",
   "metadata": {},
   "outputs": [
    {
     "data": {
      "text/plain": [
       "['TOPS_24hrs_20240207.geojson',\n",
       " 'TOPS_24hrs_20240119.geojson',\n",
       " 'TOPS_24hrs_20240109.geojson',\n",
       " 'TOPS_24hrs_20240110.geojson',\n",
       " 'TOPS_24hrs_20240204.geojson',\n",
       " 'TOPS_24hrs_20240111.geojson',\n",
       " 'TOPS_24hrs_20240205.geojson',\n",
       " 'TOPS_24hrs_20240127.geojson',\n",
       " 'TOPS_24hrs_20240108.geojson',\n",
       " 'TOPS_24hrs_20240118.geojson',\n",
       " 'TOPS_24hrs_20240126.geojson',\n",
       " 'TOPS_24hrs_20240113.geojson',\n",
       " 'TOPS_24hrs_20240125.geojson',\n",
       " 'TOPS_24hrs_20240124.geojson',\n",
       " 'TOPS_24hrs_20240206.geojson',\n",
       " 'TOPS_24hrs_20240112.geojson',\n",
       " 'TOPS_24hrs_20240203.geojson',\n",
       " 'TOPS_24hrs_20240107.geojson',\n",
       " 'TOPS_24hrs_20240117.geojson',\n",
       " 'TOPS_24hrs_20240128.geojson',\n",
       " 'TOPS_24hrs_20240121.geojson',\n",
       " 'TOPS_24hrs_20240131.geojson',\n",
       " 'TOPS_24hrs_20240130.geojson',\n",
       " 'TOPS_24hrs_20240120.geojson',\n",
       " 'TOPS_24hrs_20240202.geojson',\n",
       " 'TOPS_24hrs_20240116.geojson',\n",
       " 'TOPS_24hrs_20240106.geojson',\n",
       " 'TOPS_24hrs_20240129.geojson',\n",
       " 'TOPS_24hrs_20240122.geojson',\n",
       " 'TOPS_24hrs_20240104.geojson',\n",
       " 'TOPS_24hrs_20240114.geojson',\n",
       " 'TOPS_24hrs_20240115.geojson',\n",
       " 'TOPS_24hrs_20240105.geojson',\n",
       " 'TOPS_24hrs_20240201.geojson',\n",
       " 'TOPS_24hrs_20240123.geojson']"
      ]
     },
     "execution_count": 7,
     "metadata": {},
     "output_type": "execute_result"
    }
   ],
   "source": [
    "geojson_files"
   ]
  },
  {
   "cell_type": "code",
   "execution_count": 8,
   "id": "8fa99b75",
   "metadata": {},
   "outputs": [],
   "source": [
    "# Function to extract the normalized date string from the file name\n",
    "def extract_date(filename):\n",
    "    # Handle the 'TOPS_365 Days YYYY Mon DD.geojson' format\n",
    "    match = re.search(r'TOPS_365 Days (\\d{4}) (\\w{3}) (\\d{2})\\.geojson', filename)\n",
    "    if match:\n",
    "        year, month, day = match.groups()\n",
    "        # Convert the three-letter month to a two-digit number\n",
    "        month = datetime.strptime(month, '%b').month\n",
    "        return f\"{year}{month:02d}{day}\"\n",
    "    \n",
    "    # Handle the 'TOPS_24hrs_YYYYMMDD.geojson' format\n",
    "    match = re.search(r'TOPS_24hrs_(\\d{8})\\.geojson', filename)\n",
    "    if match:\n",
    "        # This format is already normalized as 'YYYYMMDD'\n",
    "        return match.group(1)\n",
    "    \n",
    "    # Return a string that will sort last if the format is unrecognized\n",
    "    return '99999999'\n",
    "\n"
   ]
  },
  {
   "cell_type": "code",
   "execution_count": 9,
   "id": "d6717d25",
   "metadata": {
    "scrolled": true
   },
   "outputs": [
    {
     "data": {
      "text/plain": [
       "['TOPS_24hrs_20240104.geojson',\n",
       " 'TOPS_24hrs_20240105.geojson',\n",
       " 'TOPS_24hrs_20240106.geojson',\n",
       " 'TOPS_24hrs_20240107.geojson',\n",
       " 'TOPS_24hrs_20240108.geojson',\n",
       " 'TOPS_24hrs_20240109.geojson',\n",
       " 'TOPS_24hrs_20240110.geojson',\n",
       " 'TOPS_24hrs_20240111.geojson',\n",
       " 'TOPS_24hrs_20240112.geojson',\n",
       " 'TOPS_24hrs_20240113.geojson',\n",
       " 'TOPS_24hrs_20240114.geojson',\n",
       " 'TOPS_24hrs_20240115.geojson',\n",
       " 'TOPS_24hrs_20240116.geojson',\n",
       " 'TOPS_24hrs_20240117.geojson',\n",
       " 'TOPS_24hrs_20240118.geojson',\n",
       " 'TOPS_24hrs_20240119.geojson',\n",
       " 'TOPS_24hrs_20240120.geojson',\n",
       " 'TOPS_24hrs_20240121.geojson',\n",
       " 'TOPS_24hrs_20240122.geojson',\n",
       " 'TOPS_24hrs_20240123.geojson',\n",
       " 'TOPS_24hrs_20240124.geojson',\n",
       " 'TOPS_24hrs_20240125.geojson',\n",
       " 'TOPS_24hrs_20240126.geojson',\n",
       " 'TOPS_24hrs_20240127.geojson',\n",
       " 'TOPS_24hrs_20240128.geojson',\n",
       " 'TOPS_24hrs_20240129.geojson',\n",
       " 'TOPS_24hrs_20240130.geojson',\n",
       " 'TOPS_24hrs_20240131.geojson',\n",
       " 'TOPS_24hrs_20240201.geojson',\n",
       " 'TOPS_24hrs_20240202.geojson',\n",
       " 'TOPS_24hrs_20240203.geojson',\n",
       " 'TOPS_24hrs_20240204.geojson',\n",
       " 'TOPS_24hrs_20240205.geojson',\n",
       " 'TOPS_24hrs_20240206.geojson',\n",
       " 'TOPS_24hrs_20240207.geojson']"
      ]
     },
     "execution_count": 9,
     "metadata": {},
     "output_type": "execute_result"
    }
   ],
   "source": [
    "# Now let's sort the list using the custom sort key\n",
    "geojson_files_sorted = sorted(geojson_files, key=extract_date)\n",
    "\n",
    "# Verify the result\n",
    "geojson_files_sorted"
   ]
  },
  {
   "cell_type": "code",
   "execution_count": 10,
   "id": "c4f1e51d",
   "metadata": {},
   "outputs": [
    {
     "data": {
      "text/plain": [
       "['TOPS_24hrs_20240207.geojson',\n",
       " 'TOPS_24hrs_20240104.geojson',\n",
       " 'TOPS_24hrs_20240105.geojson',\n",
       " 'TOPS_24hrs_20240106.geojson',\n",
       " 'TOPS_24hrs_20240107.geojson',\n",
       " 'TOPS_24hrs_20240108.geojson',\n",
       " 'TOPS_24hrs_20240109.geojson',\n",
       " 'TOPS_24hrs_20240110.geojson',\n",
       " 'TOPS_24hrs_20240111.geojson',\n",
       " 'TOPS_24hrs_20240112.geojson',\n",
       " 'TOPS_24hrs_20240113.geojson',\n",
       " 'TOPS_24hrs_20240114.geojson',\n",
       " 'TOPS_24hrs_20240115.geojson',\n",
       " 'TOPS_24hrs_20240116.geojson',\n",
       " 'TOPS_24hrs_20240117.geojson',\n",
       " 'TOPS_24hrs_20240118.geojson',\n",
       " 'TOPS_24hrs_20240119.geojson',\n",
       " 'TOPS_24hrs_20240120.geojson',\n",
       " 'TOPS_24hrs_20240121.geojson',\n",
       " 'TOPS_24hrs_20240122.geojson',\n",
       " 'TOPS_24hrs_20240123.geojson',\n",
       " 'TOPS_24hrs_20240124.geojson',\n",
       " 'TOPS_24hrs_20240125.geojson',\n",
       " 'TOPS_24hrs_20240126.geojson',\n",
       " 'TOPS_24hrs_20240127.geojson',\n",
       " 'TOPS_24hrs_20240128.geojson',\n",
       " 'TOPS_24hrs_20240129.geojson',\n",
       " 'TOPS_24hrs_20240130.geojson',\n",
       " 'TOPS_24hrs_20240131.geojson',\n",
       " 'TOPS_24hrs_20240201.geojson',\n",
       " 'TOPS_24hrs_20240202.geojson',\n",
       " 'TOPS_24hrs_20240203.geojson',\n",
       " 'TOPS_24hrs_20240204.geojson',\n",
       " 'TOPS_24hrs_20240205.geojson',\n",
       " 'TOPS_24hrs_20240206.geojson']"
      ]
     },
     "execution_count": 10,
     "metadata": {},
     "output_type": "execute_result"
    }
   ],
   "source": [
    "last_item = geojson_files_sorted.pop()  # Remove the last item and store it\n",
    "geojson_files_sorted.insert(0, last_item)  # Insert the stored item at the beginning\n",
    "geojson_files_sorted"
   ]
  },
  {
   "cell_type": "code",
   "execution_count": 11,
   "id": "7f54c010",
   "metadata": {},
   "outputs": [],
   "source": [
    "# Read each GeoJSON file into a GeoDataFrame and append to the list\n",
    "for filename in geojson_files_sorted:\n",
    "    file_path = os.path.join(geojson_dir, filename)\n",
    "    gdf = gpd.read_file(file_path)\n",
    "    geojson_gdfs.append(gdf)"
   ]
  },
  {
   "cell_type": "markdown",
   "id": "417c38d1",
   "metadata": {},
   "source": [
    "# Some Analysis"
   ]
  },
  {
   "cell_type": "markdown",
   "id": "f7bb08b0",
   "metadata": {},
   "source": [
    "The first item in the list will contain reports from 2023."
   ]
  },
  {
   "cell_type": "code",
   "execution_count": 12,
   "id": "514537d2",
   "metadata": {},
   "outputs": [],
   "source": [
    "reports2023 = geojson_gdfs[0]"
   ]
  },
  {
   "cell_type": "code",
   "execution_count": 13,
   "id": "ce7efa42",
   "metadata": {},
   "outputs": [
    {
     "data": {
      "text/plain": [
       "<bound method NDFrame.describe of     CREATE_TIME_INCIDENT                LOCATION_TEXT BEAT  REPORT_NUMBER  \\\n",
       "0    2024-01-28 10:56:52                     CIRCLE K    3  2024-00016161   \n",
       "1    2024-01-28 10:47:49  VASCULAR SURGERY ASSOCIATES    4           None   \n",
       "2    2024-01-28 14:11:53                         None   14           None   \n",
       "3    2024-01-28 14:15:04                         None    4           None   \n",
       "4    2024-01-28 14:16:54     LAKES OF SAN MARCOS APTS    7           None   \n",
       "..                   ...                          ...  ...            ...   \n",
       "330  2024-01-28 13:47:23         AENON BAPTIST CHURCH  SW1           None   \n",
       "331  2024-01-28 20:29:36    AMAZON FULFILLMENT CENTER  NE4           None   \n",
       "332  2024-01-28 20:31:11                         None  SE2           None   \n",
       "333  2024-01-28 20:36:09                         None  SW3           None   \n",
       "334  2024-01-29 05:25:42         WAL-MART SUPERCENTER  NW1           None   \n",
       "\n",
       "    LEGEND2          DISPO_TEXT  OBJECTID  \\\n",
       "0       148    TRESPASS WARNING         1   \n",
       "1       505  COMMUNITY POLICING         2   \n",
       "2       152         SUSPICIOUS          3   \n",
       "3       152         SUSPICIOUS          4   \n",
       "4       152         SUSPICIOUS          5   \n",
       "..      ...                 ...       ...   \n",
       "330     505  COMMUNITY POLICING       331   \n",
       "331     505  COMMUNITY POLICING       332   \n",
       "332     152         SUSPICIOUS        333   \n",
       "333     159   MISC SERVICE CALL       334   \n",
       "334     505  COMMUNITY POLICING       335   \n",
       "\n",
       "                                 geometry  \n",
       "0    POINT (-9382044.48820 3562589.20120)  \n",
       "1    POINT (-9376416.11570 3565369.04860)  \n",
       "2    POINT (-9385906.23810 3559476.94950)  \n",
       "3    POINT (-9377130.47290 3565186.00370)  \n",
       "4    POINT (-9380962.25230 3551569.21930)  \n",
       "..                                    ...  \n",
       "330  POINT (-9393031.19420 3559657.23630)  \n",
       "331  POINT (-9369634.07030 3566571.91980)  \n",
       "332  POINT (-9366706.13170 3555347.64320)  \n",
       "333  POINT (-9382658.75470 3553705.96660)  \n",
       "334  POINT (-9386298.36210 3566542.08400)  \n",
       "\n",
       "[335 rows x 8 columns]>"
      ]
     },
     "execution_count": 13,
     "metadata": {},
     "output_type": "execute_result"
    }
   ],
   "source": [
    "reports2023.describe"
   ]
  },
  {
   "cell_type": "code",
   "execution_count": 14,
   "id": "2f6639b1",
   "metadata": {},
   "outputs": [
    {
     "data": {
      "text/plain": [
       "0     2024-01-28 10:56:52\n",
       "1     2024-01-28 10:47:49\n",
       "2     2024-01-28 14:11:53\n",
       "3     2024-01-28 14:15:04\n",
       "4     2024-01-28 14:16:54\n",
       "              ...        \n",
       "330   2024-01-28 13:47:23\n",
       "331   2024-01-28 20:29:36\n",
       "332   2024-01-28 20:31:11\n",
       "333   2024-01-28 20:36:09\n",
       "334   2024-01-29 05:25:42\n",
       "Name: CREATE_TIME_INCIDENT, Length: 335, dtype: datetime64[ns]"
      ]
     },
     "execution_count": 14,
     "metadata": {},
     "output_type": "execute_result"
    }
   ],
   "source": [
    "reports2023['CREATE_TIME_INCIDENT']"
   ]
  },
  {
   "cell_type": "markdown",
   "id": "e3db0168",
   "metadata": {},
   "source": [
    "There are 365 different dates. Let's find out how many reports there are for each date."
   ]
  },
  {
   "cell_type": "code",
   "execution_count": 15,
   "id": "cf5f56b7",
   "metadata": {},
   "outputs": [
    {
     "data": {
      "text/plain": [
       "2"
      ]
     },
     "execution_count": 15,
     "metadata": {},
     "output_type": "execute_result"
    }
   ],
   "source": [
    "# There is 366 different dates (ignoring the time component)\n",
    "reports2023['CREATE_TIME_INCIDENT'].dt.date.nunique()"
   ]
  },
  {
   "cell_type": "code",
   "execution_count": 16,
   "id": "4501dcda",
   "metadata": {},
   "outputs": [
    {
     "name": "stdout",
     "output_type": "stream",
     "text": [
      "CREATE_TIME_INCIDENT\n",
      "2024-01-28    253\n",
      "2024-01-29     82\n",
      "Name: count, dtype: int64\n"
     ]
    }
   ],
   "source": [
    "date_counts = reports2023['CREATE_TIME_INCIDENT'].dt.date.value_counts()\n",
    "print(date_counts)"
   ]
  },
  {
   "cell_type": "code",
   "execution_count": 17,
   "id": "9b69e4ad",
   "metadata": {},
   "outputs": [
    {
     "name": "stdout",
     "output_type": "stream",
     "text": [
      "CREATE_TIME_INCIDENT\n",
      "2024-01-28    253\n",
      "2024-01-29     82\n",
      "Name: count, dtype: int64\n"
     ]
    }
   ],
   "source": [
    "# Sort the dates\n",
    "date_counts_sorted = date_counts.sort_index()\n",
    "print(date_counts_sorted)"
   ]
  },
  {
   "cell_type": "code",
   "execution_count": 18,
   "id": "7100c056",
   "metadata": {},
   "outputs": [
    {
     "data": {
      "text/plain": [
       "CREATE_TIME_INCIDENT\n",
       "2024-01-28    253\n",
       "2024-01-29     82\n",
       "Name: count, dtype: int64"
      ]
     },
     "execution_count": 18,
     "metadata": {},
     "output_type": "execute_result"
    }
   ],
   "source": [
    "date_counts_sorted"
   ]
  },
  {
   "cell_type": "markdown",
   "id": "acfce3e5",
   "metadata": {},
   "source": [
    "Below shows number of total incidents for each month."
   ]
  },
  {
   "cell_type": "code",
   "execution_count": 24,
   "id": "e35644ee",
   "metadata": {},
   "outputs": [],
   "source": [
    "import pandas as pd"
   ]
  },
  {
   "cell_type": "code",
   "execution_count": 25,
   "id": "d5a1836e",
   "metadata": {},
   "outputs": [
    {
     "data": {
      "image/png": "[encoded data removed]",
      "text/plain": [
       "<Figure size 1500x700 with 1 Axes>"
      ]
     },
     "metadata": {},
     "output_type": "display_data"
    }
   ],
   "source": [
    "# Convert the index to datetime to ensure proper grouping\n",
    "date_counts_sorted.index = pd.to_datetime(date_counts_sorted.index)\n",
    "\n",
    "# Group by year and month, and sum the counts for each month\n",
    "monthly_counts = date_counts_sorted.groupby([date_counts_sorted.index.year, date_counts_sorted.index.month]).sum()\n",
    "\n",
    "# Plotting the histogram with monthly bins\n",
    "monthly_counts.plot(kind='bar', figsize=(15, 7))\n",
    "\n",
    "plt.title('Number of Incidents per Month')\n",
    "plt.xlabel('Month')\n",
    "plt.ylabel('Number of Incidents')\n",
    "plt.xticks(rotation=45)  # Rotate the x-axis labels to show them more clearly\n",
    "plt.tight_layout()  # Adjust the layout so everything fits without overlapping\n",
    "\n",
    "plt.show()\n"
   ]
  },
  {
   "cell_type": "markdown",
   "id": "1628b6ef",
   "metadata": {},
   "source": [
    "Below shows the number of incidents for each day. Note that the last couple of days will belong to 2024."
   ]
  },
  {
   "cell_type": "code",
   "execution_count": 26,
   "id": "f82d24aa",
   "metadata": {},
   "outputs": [
    {
     "data": {
      "image/png": "[encoded data removed]",
      "text/plain": [
       "<Figure size 1500x700 with 1 Axes>"
      ]
     },
     "metadata": {},
     "output_type": "display_data"
    }
   ],
   "source": [
    "date_counts_sorted.plot(kind='bar', figsize=(15, 7))  # Adjust the figure size as needed\n",
    "\n",
    "plt.title('Number of Incidents per Date')\n",
    "plt.xlabel('')  # Remove the x-axis label\n",
    "plt.ylabel('Number of Incidents')\n",
    "plt.xticks(ticks=[], labels=[])  # Remove the x-axis tick labels\n",
    "plt.tight_layout()  # Adjust the layout so everything fits without overlapping\n",
    "\n",
    "plt.show()"
   ]
  },
  {
   "cell_type": "markdown",
   "id": "8ba05bf8",
   "metadata": {},
   "source": [
    "# Merging all the Data"
   ]
  },
  {
   "cell_type": "code",
   "execution_count": 27,
   "id": "768ba5b0",
   "metadata": {},
   "outputs": [],
   "source": [
    "MERGEDALL = gpd.pd.concat(geojson_gdfs,ignore_index = True)"
   ]
  },
  {
   "cell_type": "code",
   "execution_count": 28,
   "id": "7120c689",
   "metadata": {},
   "outputs": [
    {
     "data": {
      "text/html": [
       "<div>\n",
       "<style scoped>\n",
       "    .dataframe tbody tr th:only-of-type {\n",
       "        vertical-align: middle;\n",
       "    }\n",
       "\n",
       "    .dataframe tbody tr th {\n",
       "        vertical-align: top;\n",
       "    }\n",
       "\n",
       "    .dataframe thead th {\n",
       "        text-align: right;\n",
       "    }\n",
       "</style>\n",
       "<table border=\"1\" class=\"dataframe\">\n",
       "  <thead>\n",
       "    <tr style=\"text-align: right;\">\n",
       "      <th></th>\n",
       "      <th>CREATE_TIME_INCIDENT</th>\n",
       "      <th>LOCATION_TEXT</th>\n",
       "      <th>BEAT</th>\n",
       "      <th>REPORT_NUMBER</th>\n",
       "      <th>LEGEND2</th>\n",
       "      <th>DISPO_TEXT</th>\n",
       "      <th>OBJECTID</th>\n",
       "      <th>geometry</th>\n",
       "    </tr>\n",
       "  </thead>\n",
       "  <tbody>\n",
       "    <tr>\n",
       "      <th>0</th>\n",
       "      <td>2024-01-28 10:56:52</td>\n",
       "      <td>CIRCLE K</td>\n",
       "      <td>3</td>\n",
       "      <td>2024-00016161</td>\n",
       "      <td>148</td>\n",
       "      <td>TRESPASS WARNING</td>\n",
       "      <td>1.0</td>\n",
       "      <td>POINT (-9382044.48820 3562589.20120)</td>\n",
       "    </tr>\n",
       "    <tr>\n",
       "      <th>1</th>\n",
       "      <td>2024-01-28 10:47:49</td>\n",
       "      <td>VASCULAR SURGERY ASSOCIATES</td>\n",
       "      <td>4</td>\n",
       "      <td>None</td>\n",
       "      <td>505</td>\n",
       "      <td>COMMUNITY POLICING</td>\n",
       "      <td>2.0</td>\n",
       "      <td>POINT (-9376416.11570 3565369.04860)</td>\n",
       "    </tr>\n",
       "    <tr>\n",
       "      <th>2</th>\n",
       "      <td>2024-01-28 14:11:53</td>\n",
       "      <td>None</td>\n",
       "      <td>14</td>\n",
       "      <td>None</td>\n",
       "      <td>152</td>\n",
       "      <td>SUSPICIOUS</td>\n",
       "      <td>3.0</td>\n",
       "      <td>POINT (-9385906.23810 3559476.94950)</td>\n",
       "    </tr>\n",
       "    <tr>\n",
       "      <th>3</th>\n",
       "      <td>2024-01-28 14:15:04</td>\n",
       "      <td>None</td>\n",
       "      <td>4</td>\n",
       "      <td>None</td>\n",
       "      <td>152</td>\n",
       "      <td>SUSPICIOUS</td>\n",
       "      <td>4.0</td>\n",
       "      <td>POINT (-9377130.47290 3565186.00370)</td>\n",
       "    </tr>\n",
       "    <tr>\n",
       "      <th>4</th>\n",
       "      <td>2024-01-28 14:16:54</td>\n",
       "      <td>LAKES OF SAN MARCOS APTS</td>\n",
       "      <td>7</td>\n",
       "      <td>None</td>\n",
       "      <td>152</td>\n",
       "      <td>SUSPICIOUS</td>\n",
       "      <td>5.0</td>\n",
       "      <td>POINT (-9380962.25230 3551569.21930)</td>\n",
       "    </tr>\n",
       "    <tr>\n",
       "      <th>...</th>\n",
       "      <td>...</td>\n",
       "      <td>...</td>\n",
       "      <td>...</td>\n",
       "      <td>...</td>\n",
       "      <td>...</td>\n",
       "      <td>...</td>\n",
       "      <td>...</td>\n",
       "      <td>...</td>\n",
       "    </tr>\n",
       "    <tr>\n",
       "      <th>11978</th>\n",
       "      <td>2024-01-27 14:59:57</td>\n",
       "      <td>FUN STATION</td>\n",
       "      <td>3</td>\n",
       "      <td>2024-00015758</td>\n",
       "      <td>120</td>\n",
       "      <td>DISORDERLY CONDUCT</td>\n",
       "      <td>360.0</td>\n",
       "      <td>POINT (-9383662.89990 3565483.82800)</td>\n",
       "    </tr>\n",
       "    <tr>\n",
       "      <th>11979</th>\n",
       "      <td>2024-01-26 20:38:55</td>\n",
       "      <td>None</td>\n",
       "      <td>SW3</td>\n",
       "      <td>None</td>\n",
       "      <td>159</td>\n",
       "      <td>MISC SERVICE CALL</td>\n",
       "      <td>361.0</td>\n",
       "      <td>POINT (-9384641.75220 3552163.55010)</td>\n",
       "    </tr>\n",
       "    <tr>\n",
       "      <th>11980</th>\n",
       "      <td>2024-01-27 03:42:00</td>\n",
       "      <td>None</td>\n",
       "      <td>SW1</td>\n",
       "      <td>None</td>\n",
       "      <td>149</td>\n",
       "      <td>WANTED PERSON</td>\n",
       "      <td>362.0</td>\n",
       "      <td>POINT (-9392422.87220 3561803.76750)</td>\n",
       "    </tr>\n",
       "    <tr>\n",
       "      <th>11981</th>\n",
       "      <td>2024-01-27 04:27:55</td>\n",
       "      <td>None</td>\n",
       "      <td>SW3</td>\n",
       "      <td>None</td>\n",
       "      <td>133</td>\n",
       "      <td>LOUD NOISE / MUSIC</td>\n",
       "      <td>363.0</td>\n",
       "      <td>POINT (-9383553.84240 3552199.54170)</td>\n",
       "    </tr>\n",
       "    <tr>\n",
       "      <th>11982</th>\n",
       "      <td>2024-01-27 16:02:42</td>\n",
       "      <td>None</td>\n",
       "      <td>SE2</td>\n",
       "      <td>None</td>\n",
       "      <td>146</td>\n",
       "      <td>THEFT - PETIT</td>\n",
       "      <td>364.0</td>\n",
       "      <td>POINT (-9383031.16730 3552605.25250)</td>\n",
       "    </tr>\n",
       "  </tbody>\n",
       "</table>\n",
       "<p>11983 rows × 8 columns</p>\n",
       "</div>"
      ],
      "text/plain": [
       "      CREATE_TIME_INCIDENT                LOCATION_TEXT BEAT  REPORT_NUMBER  \\\n",
       "0      2024-01-28 10:56:52                     CIRCLE K    3  2024-00016161   \n",
       "1      2024-01-28 10:47:49  VASCULAR SURGERY ASSOCIATES    4           None   \n",
       "2      2024-01-28 14:11:53                         None   14           None   \n",
       "3      2024-01-28 14:15:04                         None    4           None   \n",
       "4      2024-01-28 14:16:54     LAKES OF SAN MARCOS APTS    7           None   \n",
       "...                    ...                          ...  ...            ...   \n",
       "11978  2024-01-27 14:59:57                  FUN STATION    3  2024-00015758   \n",
       "11979  2024-01-26 20:38:55                         None  SW3           None   \n",
       "11980  2024-01-27 03:42:00                         None  SW1           None   \n",
       "11981  2024-01-27 04:27:55                         None  SW3           None   \n",
       "11982  2024-01-27 16:02:42                         None  SE2           None   \n",
       "\n",
       "      LEGEND2          DISPO_TEXT  OBJECTID  \\\n",
       "0         148    TRESPASS WARNING       1.0   \n",
       "1         505  COMMUNITY POLICING       2.0   \n",
       "2         152         SUSPICIOUS        3.0   \n",
       "3         152         SUSPICIOUS        4.0   \n",
       "4         152         SUSPICIOUS        5.0   \n",
       "...       ...                 ...       ...   \n",
       "11978     120  DISORDERLY CONDUCT     360.0   \n",
       "11979     159   MISC SERVICE CALL     361.0   \n",
       "11980     149       WANTED PERSON     362.0   \n",
       "11981     133  LOUD NOISE / MUSIC     363.0   \n",
       "11982     146       THEFT - PETIT     364.0   \n",
       "\n",
       "                                   geometry  \n",
       "0      POINT (-9382044.48820 3562589.20120)  \n",
       "1      POINT (-9376416.11570 3565369.04860)  \n",
       "2      POINT (-9385906.23810 3559476.94950)  \n",
       "3      POINT (-9377130.47290 3565186.00370)  \n",
       "4      POINT (-9380962.25230 3551569.21930)  \n",
       "...                                     ...  \n",
       "11978  POINT (-9383662.89990 3565483.82800)  \n",
       "11979  POINT (-9384641.75220 3552163.55010)  \n",
       "11980  POINT (-9392422.87220 3561803.76750)  \n",
       "11981  POINT (-9383553.84240 3552199.54170)  \n",
       "11982  POINT (-9383031.16730 3552605.25250)  \n",
       "\n",
       "[11983 rows x 8 columns]"
      ]
     },
     "execution_count": 28,
     "metadata": {},
     "output_type": "execute_result"
    }
   ],
   "source": [
    "MERGEDALL"
   ]
  },
  {
   "cell_type": "markdown",
   "id": "be4b22c7",
   "metadata": {},
   "source": [
    "# An issue"
   ]
  },
  {
   "cell_type": "markdown",
   "id": "df28bd10",
   "metadata": {},
   "source": [
    "The rows 161193 through 161197 has NaT for crime time incident column. This is because the crime time incident column of the last geojson file got messed up."
   ]
  },
  {
   "cell_type": "code",
   "execution_count": 50,
   "id": "feb152af",
   "metadata": {},
   "outputs": [
    {
     "data": {
      "text/plain": [
       "Index(['CREATE_TIME_INCIDENT', 'LOCATION_TEXT', 'BEAT', 'REPORT_NUMBER',\n",
       "       'LEGEND2', 'DISPO_TEXT', 'OBJECTID', 'geometry'],\n",
       "      dtype='object')"
      ]
     },
     "execution_count": 50,
     "metadata": {},
     "output_type": "execute_result"
    }
   ],
   "source": [
    "geojson_gdfs[i].columns"
   ]
  },
  {
   "cell_type": "code",
   "execution_count": 51,
   "id": "fc1254ce",
   "metadata": {},
   "outputs": [
    {
     "name": "stdout",
     "output_type": "stream",
     "text": [
      "22\n"
     ]
    }
   ],
   "source": [
    "#This one missed create time incident\n",
    "#Time incident information is accidentally written in the LOCATION Text\n",
    "for i in range(len(geojson_gdfs)):\n",
    "    number= len(geojson_gdfs[i].columns)\n",
    "    \n",
    "    if number != 8:\n",
    "        print(i)\n",
    "\n"
   ]
  },
  {
   "cell_type": "code",
   "execution_count": 55,
   "id": "d4af8ef0",
   "metadata": {},
   "outputs": [
    {
     "data": {
      "text/html": [
       "<div>\n",
       "<style scoped>\n",
       "    .dataframe tbody tr th:only-of-type {\n",
       "        vertical-align: middle;\n",
       "    }\n",
       "\n",
       "    .dataframe tbody tr th {\n",
       "        vertical-align: top;\n",
       "    }\n",
       "\n",
       "    .dataframe thead th {\n",
       "        text-align: right;\n",
       "    }\n",
       "</style>\n",
       "<table border=\"1\" class=\"dataframe\">\n",
       "  <thead>\n",
       "    <tr style=\"text-align: right;\">\n",
       "      <th></th>\n",
       "      <th>geometry</th>\n",
       "    </tr>\n",
       "  </thead>\n",
       "  <tbody>\n",
       "  </tbody>\n",
       "</table>\n",
       "</div>"
      ],
      "text/plain": [
       "Empty GeoDataFrame\n",
       "Columns: [geometry]\n",
       "Index: []"
      ]
     },
     "execution_count": 55,
     "metadata": {},
     "output_type": "execute_result"
    }
   ],
   "source": [
    "geojson_gdfs[22]"
   ]
  },
  {
   "cell_type": "code",
   "execution_count": null,
   "id": "807d6f4c",
   "metadata": {},
   "outputs": [],
   "source": []
  }
 ],
 "metadata": {
  "kernelspec": {
   "display_name": "Python 3 (ipykernel)",
   "language": "python",
   "name": "python3"
  },
  "language_info": {
   "codemirror_mode": {
    "name": "ipython",
    "version": 3
   },
   "file_extension": ".py",
   "mimetype": "text/x-python",
   "name": "python",
   "nbconvert_exporter": "python",
   "pygments_lexer": "ipython3",
   "version": "3.11.5"
  }
 },
 "nbformat": 4,
 "nbformat_minor": 5
}
